{
 "cells": [
  {
   "cell_type": "markdown",
   "id": "0f0ee20b-df97-4753-894a-fe0fdd54e414",
   "metadata": {
    "tags": []
   },
   "source": [
    "# Data exploration"
   ]
  },
  {
   "cell_type": "markdown",
   "id": "f3601615-18d5-44a8-b56b-13d0f1daa151",
   "metadata": {},
   "source": [
    "## Notebook setup"
   ]
  },
  {
   "cell_type": "code",
   "execution_count": null,
   "id": "91ebab51-1787-4396-93ef-252949f0648f",
   "metadata": {},
   "outputs": [],
   "source": [
    "import pickle\n",
    "import os"
   ]
  },
  {
   "cell_type": "code",
   "execution_count": null,
   "id": "40a78dc2-2977-4129-bc1c-5d515d7f3d2a",
   "metadata": {},
   "outputs": [],
   "source": [
    "import numpy as np\n",
    "import plotly.express as px"
   ]
  },
  {
   "cell_type": "code",
   "execution_count": null,
   "id": "c8faf8ff-5531-460e-be27-90274a73de82",
   "metadata": {},
   "outputs": [],
   "source": [
    "DATA_DIR = os.path.join('..', 'data')\n",
    "NOTEBOOK1_OUTPUT_DIR = os.path.join('output', '1_data_fetching')\n",
    "\n",
    "CLASSES_FILE = os.path.join(NOTEBOOK1_OUTPUT_DIR, 'top_classes.pkl')"
   ]
  },
  {
   "cell_type": "markdown",
   "id": "5ad7eaad-1b71-44ba-98e4-8ac0b731ad1e",
   "metadata": {
    "tags": []
   },
   "source": [
    "## Loading the data from the previous notebook"
   ]
  },
  {
   "cell_type": "code",
   "execution_count": null,
   "id": "c249d31e-f5e2-454a-9cfc-995e780c41c3",
   "metadata": {},
   "outputs": [],
   "source": [
    "with open(CLASSES_FILE, 'rb') as f:\n",
    "    top_classes = pickle.load(f)"
   ]
  },
  {
   "cell_type": "markdown",
   "id": "63241c17-1b3f-47d8-9aeb-4d8d14ca7ee0",
   "metadata": {},
   "source": [
    "## Displaying general information"
   ]
  },
  {
   "cell_type": "code",
   "execution_count": null,
   "id": "2ad9be73-3b79-46f0-9a45-4f962c92d81d",
   "metadata": {},
   "outputs": [],
   "source": [
    "print(\"Top 25 classes based on classrank\")\n",
    "print(\"-\" * 35)\n",
    "print('\\n'.join([f\"{c.name} - score: {c.classrank_score}\" for c in top_classes[:25]]))"
   ]
  },
  {
   "cell_type": "code",
   "execution_count": null,
   "id": "8deec1c7-aaf3-47f4-8eb9-b55aed08f66c",
   "metadata": {},
   "outputs": [],
   "source": [
    "# Histogram\n",
    "x = [len(c.top_entities) for c in top_classes]\n",
    "labels = {\n",
    "    \"x\": \"Number of class instances\"\n",
    "}\n",
    "\n",
    "fig = px.histogram(x=x, nbins=10, template='plotly_white', labels=labels)\n",
    "fig.update_layout(bargap=0.02)\n",
    "fig.show()"
   ]
  },
  {
   "cell_type": "code",
   "execution_count": null,
   "id": "e7970aca-97ad-45ec-af14-2b5918594470",
   "metadata": {},
   "outputs": [],
   "source": [
    "fig.write_html(\"./sample.html\")"
   ]
  },
  {
   "cell_type": "code",
   "execution_count": null,
   "id": "8a233c5a-d3a2-4e9e-9d4b-74daf8e5400d",
   "metadata": {},
   "outputs": [],
   "source": [
    "fig.write_image(\"./sample.svg\")"
   ]
  },
  {
   "cell_type": "markdown",
   "id": "bbcd9875-8785-45d2-af07-a9360f5afab4",
   "metadata": {
    "tags": []
   },
   "source": [
    "## Querying the diff data"
   ]
  },
  {
   "cell_type": "code",
   "execution_count": 1,
   "id": "55dedbdd-97d5-4426-bee1-22f112cc4172",
   "metadata": {},
   "outputs": [
    {
     "name": "stdout",
     "output_type": "stream",
     "text": [
      "Requirement already satisfied: pymongo in /opt/conda/lib/python3.9/site-packages (4.0.1)\n"
     ]
    }
   ],
   "source": [
    "!pip install pymongo"
   ]
  },
  {
   "cell_type": "code",
   "execution_count": 2,
   "id": "4b1f2ae7-d83b-4d31-8e32-bca9288dc7b3",
   "metadata": {},
   "outputs": [],
   "source": [
    "import getpass\n",
    "import os\n",
    "\n",
    "def env_or_callback(env_name, callback, *args):\n",
    "    return os.getenv(env_name) if os.getenv(env_name) is not None else callback(*args)"
   ]
  },
  {
   "cell_type": "code",
   "execution_count": 3,
   "id": "583a8022-a691-4895-90fe-60d20ae545aa",
   "metadata": {},
   "outputs": [],
   "source": [
    "from pymongo import MongoClient\n",
    "import pymongo\n",
    "\n",
    "MONGO_USERNAME = env_or_callback(\"MONGO_USERNAME\", input, \"Mongo username: \")\n",
    "MONGO_PASSWORD = env_or_callback(\"MONGO_PASSWORD\", getpass.getpass, \"Mongo password: \")\n",
    "MONGO_URL = env_or_callback(\"MONGO_URL\", input, \"Mongo url: \")\n",
    "MONGO_DATABASE = \"wd_diff\"\n",
    "\n",
    "def get_database():\n",
    "    # Provide the mongodb atlas url to connect python to mongodb using pymongo\n",
    "    CONNECTION_STRING = f\"mongodb://{MONGO_USERNAME}:{MONGO_PASSWORD}@{MONGO_URL}/{MONGO_DATABASE}\"\n",
    "\n",
    "    # Create a connection using MongoClient. You can import MongoClient or use pymongo.MongoClient\n",
    "    client = MongoClient(CONNECTION_STRING)\n",
    "\n",
    "    # Create the database for our example (we will use the same database throughout the tutorial\n",
    "    return client[MONGO_DATABASE]"
   ]
  },
  {
   "cell_type": "code",
   "execution_count": 4,
   "id": "48b95858-39b1-460c-9eca-c828cd314c68",
   "metadata": {},
   "outputs": [],
   "source": [
    "db = get_database()\n",
    "wd_entities = db.wd_entities"
   ]
  },
  {
   "cell_type": "code",
   "execution_count": null,
   "id": "99edd270-0bc5-419d-9177-198c78200df5",
   "metadata": {
    "tags": []
   },
   "outputs": [],
   "source": [
    "wd_entities.drop_indexes()"
   ]
  },
  {
   "cell_type": "code",
   "execution_count": 9,
   "id": "366b7587-a5dc-4775-bb57-8c34180ddeca",
   "metadata": {},
   "outputs": [
    {
     "name": "stdout",
     "output_type": "stream",
     "text": [
      "[SON([('v', 2), ('key', SON([('_id', 1)])), ('name', '_id_')]),\n",
      " SON([('v', 2), ('key', SON([('entity_id', -1)])), ('name', 'entity_id_-1')]),\n",
      " {'key': SON([('entity_json.claims.P31.mainsnak.davalue.value.id', -1)]),\n",
      "  'name': 'entity_json.claims.P31.mainsnak.davalue.value.id_-1',\n",
      "  'sparse': True,\n",
      "  'v': 2},\n",
      " {'key': SON([('revisions.entity_diff.op', -1)]),\n",
      "  'name': 'revisions.entity_diff.op_-1',\n",
      "  'v': 2}]\n"
     ]
    }
   ],
   "source": [
    "pprint.pprint(list(wd_entities.list_indexes()))"
   ]
  },
  {
   "cell_type": "code",
   "execution_count": null,
   "id": "962731c5-a5ef-4e4a-ae5c-07290a7ebeea",
   "metadata": {},
   "outputs": [],
   "source": [
    "wd_entities.create_index([(\"entity_id\", pymongo.DESCENDING)])\n",
    "#wd_entities.create_index([(\"entity_json.claims.P31\", pymongo.DESCENDING)])\n",
    "wd_entities.create_index([(\"entity_json.claims.P31.mainsnak.davalue.value.id\", pymongo.DESCENDING)], sparse=True)\n",
    "#wd_entities.create_index([(\"revisions\", pymongo.DESCENDING)])\n",
    "wd_entities.create_index([(\"revisions.entity_diff.op\", pymongo.DESCENDING)])\n",
    "#wd_entities.create_index([(\"entity_json.revisions\", pymongo.DESCENDING)])"
   ]
  },
  {
   "cell_type": "code",
   "execution_count": 7,
   "id": "d60d2d8b-efe8-423e-8613-85ba66b89870",
   "metadata": {
    "tags": []
   },
   "outputs": [],
   "source": [
    "import pprint\n",
    "\n",
    "def test(collection):\n",
    "    return collection.find_one({\"entity_id\": \"Q25107362\"})\n",
    "\n",
    "def get_doc_count(collection):\n",
    "    return collection.find_one({\"entity_id\": \"Q25107362\"})\n",
    "\n",
    "def get_num_instances_of(collection, q_id):\n",
    "    return collection.count_documents({\"entity_json.claims.P31.mainsnak.datavalue.value.id\": q_id})\n",
    "\n",
    "def get_instances_of(collection, q_id):\n",
    "    return collection.find({\"entity_json.claims.P31.mainsnak.datavalue.value.id\": q_id})\n",
    "\n",
    "def get_instances_of_c(collection, ids):\n",
    "    return collection.find({\"entity_id\": {\"$in\": ids}})\n",
    "\n",
    "def get_number_of_editions(collection, q_id):\n",
    "    pipeline = [\n",
    "        {\"$match\": {\"entity_json.claims.P31\": {\"$elemMatch\": {\"mainsnak.datavalue.value.id\": q_id}}}},\n",
    "        {\"$group\": {\"_id\": \"null\", \"num_revisions\": { \"$sum\": { \"$size\": \"$revisions\" }}}}\n",
    "    ]\n",
    "    return collection.aggregate(pipeline)\n",
    "\n",
    "def get_number_of_operations(collection, q_id):\n",
    "    pipeline = [\n",
    "        {\"$match\": {\"entity_json.claims.P31.mainsnak.datavalue.value.id\": q_id}},\n",
    "        {\"$unwind\": \"$revisions\"},\n",
    "        {\"$unwind\": \"$revisions.entity_diff\"},\n",
    "        {\n",
    "            \"$group\": \n",
    "            {\n",
    "                \"_id\": \"$revisions.entity_diff.op\",\n",
    "                \"count\": {\"$sum\" : 1}\n",
    "            }\n",
    "        }\n",
    "    ]\n",
    "    return collection.aggregate(pipeline)\n",
    "\n",
    "def get_number_of_operations_b(collection, ids):\n",
    "    pipeline = [\n",
    "        {\"$match\": {\"entity_id\": {\"$in\": ids}}},\n",
    "        {\"$unwind\": \"$revisions\"},\n",
    "        {\"$unwind\": \"$revisions.entity_diff\"},\n",
    "        {\n",
    "            \"$group\": \n",
    "            {\n",
    "                \"_id\": \"$revisions.entity_diff.op\",\n",
    "                \"count\": {\"$sum\" : 1}\n",
    "            }\n",
    "        }\n",
    "    ]\n",
    "    return collection.aggregate(pipeline)\n"
   ]
  },
  {
   "cell_type": "code",
   "execution_count": 8,
   "id": "c3420b20-38bc-44ea-a9be-5cee792dbf36",
   "metadata": {},
   "outputs": [
    {
     "name": "stdout",
     "output_type": "stream",
     "text": [
      "870358\n"
     ]
    }
   ],
   "source": [
    "pprint.pprint(get_num_instances_of(wd_entities, 'Q5'))"
   ]
  },
  {
   "cell_type": "code",
   "execution_count": 14,
   "id": "4ca40590-02a7-4d09-bcfd-cc5f62513c98",
   "metadata": {},
   "outputs": [],
   "source": [
    "import random\n",
    "\n",
    "def get_random_ids(n=500000):\n",
    "    ids = ['Q25107362']\n",
    "    for i in range(n):\n",
    "        ids.append(f\"Q{random.randint(10000000, 100000000)}\")\n",
    "    return ids"
   ]
  },
  {
   "cell_type": "code",
   "execution_count": 33,
   "id": "a60fe375-044a-4964-a054-a09dc621cd90",
   "metadata": {},
   "outputs": [],
   "source": [
    "HUMAN_QID = \"Q5\""
   ]
  },
  {
   "cell_type": "code",
   "execution_count": null,
   "id": "02628422-5a2f-4747-a1e5-901d922e1679",
   "metadata": {},
   "outputs": [],
   "source": [
    "pprint.pprint(get_instances_of(wd_entities, HUMAN_QID))"
   ]
  },
  {
   "cell_type": "code",
   "execution_count": 34,
   "id": "df9ee090-bd84-4a12-ac1e-49a62b6633b4",
   "metadata": {
    "tags": []
   },
   "outputs": [
    {
     "name": "stdout",
     "output_type": "stream",
     "text": [
      "<pymongo.cursor.Cursor object at 0x7ff9bc224670>\n"
     ]
    }
   ],
   "source": [
    "pprint.pprint(get_instances_of_b(wd_entities, HUMAN_QID))"
   ]
  },
  {
   "cell_type": "code",
   "execution_count": 31,
   "id": "0878aa5c-0bdd-4ccb-b4db-c4d049b02567",
   "metadata": {},
   "outputs": [
    {
     "name": "stdout",
     "output_type": "stream",
     "text": [
      "10836\n"
     ]
    }
   ],
   "source": [
    "pprint.pprint(len(list(get_instances_of_c(wd_entities, ids))))"
   ]
  },
  {
   "cell_type": "code",
   "execution_count": 38,
   "id": "8b46d4fa-2e69-40e8-94f1-e5ed840cf27a",
   "metadata": {
    "tags": []
   },
   "outputs": [
    {
     "name": "stdout",
     "output_type": "stream",
     "text": [
      "[]\n"
     ]
    }
   ],
   "source": [
    "pprint.pprint(list(get_number_of_operations(wd_entities, HUMAN_QID)))"
   ]
  },
  {
   "cell_type": "code",
   "execution_count": 30,
   "id": "75708b35-514b-4080-b886-079323bf6e7f",
   "metadata": {},
   "outputs": [
    {
     "name": "stdout",
     "output_type": "stream",
     "text": [
      "[{'_id': 'replace', 'count': 48931},\n",
      " {'_id': 'remove', 'count': 12695},\n",
      " {'_id': 'add', 'count': 327815}]\n"
     ]
    }
   ],
   "source": [
    "pprint.pprint(list(get_number_of_operations_b(wd_entities, ids)))"
   ]
  },
  {
   "cell_type": "code",
   "execution_count": 40,
   "id": "278fa371-e5c6-46ca-9eca-a0da5db5aaf4",
   "metadata": {},
   "outputs": [
    {
     "name": "stdout",
     "output_type": "stream",
     "text": [
      "[('human',\n",
      "  [{'_id': 'add', 'count': 33316069},\n",
      "   {'_id': 'remove', 'count': 751807},\n",
      "   {'_id': 'replace', 'count': 3648424}]),\n",
      " ('sovereign state',\n",
      "  [{'_id': 'replace', 'count': 293},\n",
      "   {'_id': 'remove', 'count': 89},\n",
      "   {'_id': 'add', 'count': 573}]),\n",
      " ('taxon',\n",
      "  [{'_id': 'add', 'count': 2204879},\n",
      "   {'_id': 'remove', 'count': 48028},\n",
      "   {'_id': 'replace', 'count': 460201}]),\n",
      " ('country', [{'_id': 'add', 'count': 10}, {'_id': 'replace', 'count': 1}]),\n",
      " ('city',\n",
      "  [{'_id': 'add', 'count': 8843},\n",
      "   {'_id': 'remove', 'count': 512},\n",
      "   {'_id': 'replace', 'count': 1587}])]\n",
      "CPU times: user 523 ms, sys: 172 ms, total: 695 ms\n",
      "Wall time: 14min 34s\n"
     ]
    }
   ],
   "source": [
    "%%time\n",
    "\n",
    "# TODO: replace classes by real data\n",
    "classes = [\n",
    "    ('human', 'Q5'),\n",
    "    ('sovereign state', 'Q3624078'),\n",
    "    ('taxon', 'Q16521'),\n",
    "    ('country', 'Q6256'),\n",
    "    ('city', 'Q515')\n",
    "]\n",
    "\n",
    "results = []\n",
    "\n",
    "for name, c_id in classes:\n",
    "    res = get_number_of_operations(wd_entities, c_id)\n",
    "    results.append((name, list(res)))\n",
    "\n",
    "pprint.pprint(results)"
   ]
  },
  {
   "cell_type": "code",
   "execution_count": 42,
   "id": "0509d335-369d-4897-8626-b959ccbd8ab8",
   "metadata": {},
   "outputs": [
    {
     "name": "stdout",
     "output_type": "stream",
     "text": [
      "[('human',\n",
      "  [{'_id': 'remove', 'count': 15784},\n",
      "   {'_id': 'add', 'count': 367698},\n",
      "   {'_id': 'replace', 'count': 56332}]),\n",
      " ('sovereign state',\n",
      "  [{'_id': 'replace', 'count': 59264},\n",
      "   {'_id': 'add', 'count': 370463},\n",
      "   {'_id': 'remove', 'count': 15294}]),\n",
      " ('taxon',\n",
      "  [{'_id': 'remove', 'count': 15398},\n",
      "   {'_id': 'add', 'count': 372588},\n",
      "   {'_id': 'replace', 'count': 64352}]),\n",
      " ('country',\n",
      "  [{'_id': 'replace', 'count': 53430},\n",
      "   {'_id': 'add', 'count': 355649},\n",
      "   {'_id': 'remove', 'count': 14392}]),\n",
      " ('city',\n",
      "  [{'_id': 'add', 'count': 362925},\n",
      "   {'_id': 'replace', 'count': 53871},\n",
      "   {'_id': 'remove', 'count': 14004}])]\n",
      "CPU times: user 3.4 s, sys: 236 ms, total: 3.63 s\n",
      "Wall time: 2min 51s\n"
     ]
    }
   ],
   "source": [
    "%%time\n",
    "\n",
    "# TODO: replace classes by real data\n",
    "classes = [\n",
    "    ('human', 'Q5'),\n",
    "    ('sovereign state', 'Q3624078'),\n",
    "    ('taxon', 'Q16521'),\n",
    "    ('country', 'Q6256'),\n",
    "    ('city', 'Q515')\n",
    "]\n",
    "results = []\n",
    "\n",
    "for name, c_id in classes:\n",
    "    res = get_number_of_operations_b(wd_entities, get_random_ids())\n",
    "    results.append((name, list(res)))\n",
    "\n",
    "pprint.pprint(results)"
   ]
  },
  {
   "cell_type": "code",
   "execution_count": null,
   "id": "7dbe2e93-9e46-4ede-979a-6b7c4102b230",
   "metadata": {},
   "outputs": [],
   "source": [
    "%%time\n",
    "\n",
    "res = get_number_of_editions(wd_entities, HUMAN_QID)\n",
    "pprint.pprint(list(res))"
   ]
  },
  {
   "cell_type": "code",
   "execution_count": null,
   "id": "d9d84ebb-4784-4c89-9a6b-9e53e0cf77d5",
   "metadata": {},
   "outputs": [],
   "source": [
    "pprint.pprint(list(res))"
   ]
  },
  {
   "cell_type": "code",
   "execution_count": null,
   "id": "c096e0db-b317-4992-acab-64455a5d9eb3",
   "metadata": {},
   "outputs": [],
   "source": [
    "%%time\n",
    "\n",
    "print(len(get_instances_of(wd_entities, HUMAN_QID)))"
   ]
  },
  {
   "cell_type": "code",
   "execution_count": 92,
   "id": "429b71fe-f987-4dd7-95d0-037dc0dce68c",
   "metadata": {},
   "outputs": [],
   "source": [
    "def get_properties_edited(collection, q_id):\n",
    "    pipeline = [\n",
    "        {\"$match\": {\"entity_json.claims.P31.mainsnak.datavalue.value.id\": q_id}},\n",
    "        {\"$unwind\": \"$revisions\"},\n",
    "        {\"$unwind\": \"$revisions.entity_diff\"},\n",
    "        {\"$match\": {\"revisions.entity_diff.path\": {\"$regex\": \"\\/claims\\/P([0-9]*)$\"}}},\n",
    "        {\"$addFields\": {\"prop\": {\"$regexFind\": {\"input\": \"$revisions.entity_diff.path\", \"regex\": \"P([0-9]*)\"}}}},\n",
    "        {\n",
    "            \"$group\": \n",
    "            {\n",
    "                \"_id\": {\"prop\": \"$prop.match\", \"op\": \"$revisions.entity_diff.op\"},\n",
    "                \"count\": {\"$sum\" : 1}\n",
    "            }\n",
    "        },\n",
    "        {\"$sort\": {\"count\": -1}}\n",
    "    ]\n",
    "    return collection.aggregate(pipeline)\n",
    "\n",
    "def get_properties_edited_b_batch(collection, ids):\n",
    "    pipeline = [\n",
    "        {\"$match\": {\"entity_id\": {\"$in\": ids}}},\n",
    "        {\"$unwind\": \"$revisions\"},\n",
    "        {\"$unwind\": \"$revisions.entity_diff\"},\n",
    "        {\"$match\": {\"revisions.entity_diff.path\": {\"$regex\": \"\\/claims\\/P([0-9]*)$\"}}},\n",
    "        {\"$addFields\": {\"prop\": {\"$regexFind\": {\"input\": \"$revisions.entity_diff.path\", \"regex\": \"P([0-9]*)\"}}}},\n",
    "        {\n",
    "            \"$group\": \n",
    "            {\n",
    "                \"_id\": {\"prop\": \"$prop.match\", \"op\": \"$revisions.entity_diff.op\"},\n",
    "                \"count\": {\"$sum\" : 1}\n",
    "            }\n",
    "        },\n",
    "        {\"$sort\": {\"count\": -1}}\n",
    "    ]\n",
    "    return collection.aggregate(pipeline)\n",
    "\n",
    "def get_properties_edited_b(collection, ids):\n",
    "    batch_size = 300000\n",
    "    num_batchs = math.ceil(len(ids) / batch_size)\n",
    "    current_results = None\n",
    "    for i in num_batchs:\n",
    "        start = i * batch_size\n",
    "        end = (i+1) * batch_size\n",
    "        batch = ids[start:end]\n",
    "        res = list(get_properties_edited_b_batch(collection, batch))\n",
    "        if current_results is None:\n",
    "            current_results = res\n",
    "            continue\n",
    "        \n",
    "        _ids = [r['_id'] for r in res]\n",
    "        new_elements = []\n",
    "        for el1 in res:\n",
    "            match = False\n",
    "            for el2 in current_results:\n",
    "                if el1['_id'] == el2['_id']:\n",
    "                    el2['count'] += el1['count']\n",
    "                    match = True\n",
    "                    break\n",
    "            if not match:\n",
    "                new_elements.append(el1)\n",
    "        current_result += new_elements\n",
    "    "
   ]
  },
  {
   "cell_type": "code",
   "execution_count": 85,
   "id": "eac98ce2-c07a-43d9-9c42-cd54b5aeeaa1",
   "metadata": {
    "tags": []
   },
   "outputs": [
    {
     "name": "stdout",
     "output_type": "stream",
     "text": [
      "[{'_id': {'op': 'add', 'prop': 'P31'}, 'count': 788278},\n",
      " {'_id': {'op': 'add', 'prop': 'P21'}, 'count': 765414},\n",
      " {'_id': {'op': 'add', 'prop': 'P569'}, 'count': 717822},\n",
      " {'_id': {'op': 'add', 'prop': 'P2671'}, 'count': 696782},\n",
      " {'_id': {'op': 'add', 'prop': 'P106'}, 'count': 681095},\n",
      " {'_id': {'op': 'add', 'prop': 'P735'}, 'count': 494242},\n",
      " {'_id': {'op': 'add', 'prop': 'P19'}, 'count': 446756},\n",
      " {'_id': {'op': 'add', 'prop': 'P27'}, 'count': 433739},\n",
      " {'_id': {'op': 'add', 'prop': 'P734'}, 'count': 283292},\n",
      " {'_id': {'op': 'add', 'prop': 'P570'}, 'count': 275710},\n",
      " {'_id': {'op': 'add', 'prop': 'P1412'}, 'count': 202813},\n",
      " {'_id': {'op': 'add', 'prop': 'P641'}, 'count': 193610},\n",
      " {'_id': {'op': 'add', 'prop': 'P69'}, 'count': 184383},\n",
      " {'_id': {'op': 'add', 'prop': 'P214'}, 'count': 176446},\n",
      " {'_id': {'op': 'add', 'prop': 'P7859'}, 'count': 139108},\n",
      " {'_id': {'op': 'add', 'prop': 'P18'}, 'count': 135556},\n",
      " {'_id': {'op': 'add', 'prop': 'P20'}, 'count': 130132},\n",
      " {'_id': {'op': 'add', 'prop': 'P244'}, 'count': 80943},\n",
      " {'_id': {'op': 'add', 'prop': 'P54'}, 'count': 76375},\n",
      " {'_id': {'op': 'add', 'prop': 'P213'}, 'count': 73190}]\n"
     ]
    }
   ],
   "source": [
    "# 20 most popular changes\n",
    "pprint.pprint(list(get_properties_edited(wd_entities,HUMAN_QID))[:20])"
   ]
  },
  {
   "cell_type": "code",
   "execution_count": null,
   "id": "0a9c5195-b95f-4ae6-8a1e-39558464c28a",
   "metadata": {},
   "outputs": [],
   "source": [
    "# 20 most popular changes\n",
    "ids = list(set(get_random_ids(9000000)))\n",
    "pprint.pprint(list(get_properties_edited_b(wd_entities, ids))[:20])"
   ]
  },
  {
   "cell_type": "code",
   "execution_count": null,
   "id": "9818cddf-765b-49ec-bf64-2ce0f93d72fc",
   "metadata": {},
   "outputs": [],
   "source": [
    "# groups also by values being edited\n",
    "def get_properties_edited_detailed(collection, ids):\n",
    "    pipeline = [\n",
    "        {\"$match\": {\"entity_id\": {\"$in\": ids}}},\n",
    "        {\"$unwind\": \"$revisions\"},\n",
    "        {\"$unwind\": \"$revisions.entity_diff\"},\n",
    "        {\"$match\": {\"revisions.entity_diff.path\": {\"$regex\": \"\\/claims\\/P([0-9]*)$\"}}},\n",
    "        {\n",
    "            \"$group\": \n",
    "            {\n",
    "                \"_id\": {\"path\": \"$revisions.entity_diff.path\", \"op\": \"$revisions.entity_diff.op\", \"omfg\": \"$revisions.entity_diff.value.mainsnak.datavalue\"},\n",
    "                \"count\": {\"$sum\" : 1}\n",
    "            }\n",
    "        },\n",
    "        {\"$sort\": {\"count\": -1}}\n",
    "    ]\n",
    "    return collection.aggregate(pipeline)"
   ]
  },
  {
   "cell_type": "code",
   "execution_count": 79,
   "id": "fa02e636-ae70-49f5-8728-375e88ea7d76",
   "metadata": {},
   "outputs": [],
   "source": [
    "def get_properties_edited_deciles(collection, ids, decile_num=0):\n",
    "    if decile_num < 0 or decile_num > 9:\n",
    "        print(\"Decile must be a number between 0 and 9\")\n",
    "        return []\n",
    "    \n",
    "    pipeline = [\n",
    "        {\"$match\": {\"entity_id\": {\"$in\": ids}}},\n",
    "        {\"$project\": {\n",
    "            \"revs\": {\n",
    "                \"$slice\": [\n",
    "                    \"$revisions\",\n",
    "                    # calculate start and end of given decile\n",
    "                    {\"$multiply\": [{\"$ceil\": {\"$divide\": [{\"$size\": \"$revisions\"}, 10]}}, decile_num]}, \n",
    "                    {\"$multiply\": [{\"$ceil\": {\"$divide\": [{\"$size\": \"$revisions\"}, 10]}}, decile_num+1]}\n",
    "                ]\n",
    "            }\n",
    "        }},\n",
    "        {\"$unwind\": \"$revs\"},\n",
    "        {\"$unwind\": \"$revs.entity_diff\"},\n",
    "        {\"$match\": {\"revs.entity_diff.op\": \"remove\", \"revs.entity_diff.path\": {\"$regex\": \"\\/claims\\/P([0-9]*)$\"}}},\n",
    "        {\"$addFields\": {\"prop\": {\"$regexFind\": {\"input\": \"$revs.entity_diff.path\", \"regex\": \"P([0-9]*)\"}}}},\n",
    "        {\n",
    "            \"$group\": \n",
    "            {\n",
    "                \"_id\": {\"prop\": \"$prop.match\", \"op\": \"$revs.entity_diff.op\"},\n",
    "                \"count\": {\"$sum\" : 1}\n",
    "            }\n",
    "        },\n",
    "        {\"$sort\": {\"count\": -1}}\n",
    "    ]\n",
    "    return collection.aggregate(pipeline)\n"
   ]
  },
  {
   "cell_type": "code",
   "execution_count": 19,
   "id": "e2297c45-ea3c-4410-b832-4bb58bdca152",
   "metadata": {},
   "outputs": [],
   "source": [
    "ids = get_random_ids(20000)"
   ]
  },
  {
   "cell_type": "code",
   "execution_count": 84,
   "id": "4e6a3ff8-61c1-4464-9a58-784d6f54c43c",
   "metadata": {},
   "outputs": [
    {
     "name": "stdout",
     "output_type": "stream",
     "text": [
      "[{'_id': ObjectId('6206d58e228b9245ac7292aa'),\n",
      "  'revs': {'comment': '/* wbsetclaim-create:2||1 */ [[Property:P106]]: '\n",
      "                      '[[Q2252262]], BOT - Adding 1 claim',\n",
      "           'entity_diff': {'op': 'add',\n",
      "                           'path': '/claims/P106',\n",
      "                           'value': [{'id': 'Q99734855$725805db-9fa7-4741-878b-ee8a35408208',\n",
      "                                      'mainsnak': {'datavalue': {'type': 'wikibase-entityid',\n",
      "                                                                 'value': {'entity-type': 'item',\n",
      "                                                                           'id': 'Q2252262',\n",
      "                                                                           'numeric-id': 2252262}},\n",
      "                                                   'hash': '6ec748e648ccf3b5cc038bae33712e25411b0b2f',\n",
      "                                                   'property': 'P106',\n",
      "                                                   'snaktype': 'value'},\n",
      "                                      'rank': 'normal',\n",
      "                                      'type': 'statement'}]},\n",
      "           'id': 1284114296,\n",
      "           'parent_id': 1284114291,\n",
      "           'timestamp': '2020-09-29T13:26:08Z',\n",
      "           'username': 'Pi bot'}},\n",
      " {'_id': ObjectId('6206d58e228b9245ac7292aa'),\n",
      "  'revs': {'comment': '/* wbsetreference-add:2| */ [[Property:P106]]: '\n",
      "                      '[[Q2252262]], BOT - Adding 1 reference: '\n",
      "                      '[[Property:P143]]: [[Q328]]',\n",
      "           'entity_diff': {'op': 'add',\n",
      "                           'path': '/claims/P106/0/references',\n",
      "                           'value': [{'hash': 'fa278ebfc458360e5aed63d5058cca83c46134f1',\n",
      "                                      'snaks': {'P143': [{'datavalue': {'type': 'wikibase-entityid',\n",
      "                                                                        'value': {'entity-type': 'item',\n",
      "                                                                                  'id': 'Q328',\n",
      "                                                                                  'numeric-id': 328}},\n",
      "                                                          'hash': 'e4f6d9441d0600513c4533c672b5ab472dc73694',\n",
      "                                                          'property': 'P143',\n",
      "                                                          'snaktype': 'value'}]},\n",
      "                                      'snaks-order': ['P143']}]},\n",
      "           'id': 1284114307,\n",
      "           'parent_id': 1284114296,\n",
      "           'timestamp': '2020-09-29T13:26:09Z',\n",
      "           'username': 'Pi bot'}},\n",
      " {'_id': ObjectId('6206d58e228b9245ac7292aa'),\n",
      "  'revs': {'comment': '/* wbsetclaim-create:2||1 */ [[Property:P106]]: '\n",
      "                      '[[Q639669]], BOT - Adding 1 claim',\n",
      "           'entity_diff': {'op': 'add',\n",
      "                           'path': '/claims/P106/1',\n",
      "                           'value': {'id': 'Q99734855$afe2b567-615a-46cd-a2c0-ef75501367ac',\n",
      "                                     'mainsnak': {'datavalue': {'type': 'wikibase-entityid',\n",
      "                                                                'value': {'entity-type': 'item',\n",
      "                                                                          'id': 'Q639669',\n",
      "                                                                          'numeric-id': 639669}},\n",
      "                                                  'hash': '7263b8947456c9026f1e8726c6773eb2ec39db24',\n",
      "                                                  'property': 'P106',\n",
      "                                                  'snaktype': 'value'},\n",
      "                                     'rank': 'normal',\n",
      "                                     'type': 'statement'}},\n",
      "           'id': 1284114313,\n",
      "           'parent_id': 1284114307,\n",
      "           'timestamp': '2020-09-29T13:26:10Z',\n",
      "           'username': 'Pi bot'}},\n",
      " {'_id': ObjectId('6206d58e228b9245ac7292aa'),\n",
      "  'revs': {'comment': '/* wbsetreference-add:2| */ [[Property:P106]]: '\n",
      "                      '[[Q639669]], BOT - Adding 1 reference: '\n",
      "                      '[[Property:P143]]: [[Q328]]',\n",
      "           'entity_diff': {'op': 'add',\n",
      "                           'path': '/claims/P106/1/references',\n",
      "                           'value': [{'hash': 'fa278ebfc458360e5aed63d5058cca83c46134f1',\n",
      "                                      'snaks': {'P143': [{'datavalue': {'type': 'wikibase-entityid',\n",
      "                                                                        'value': {'entity-type': 'item',\n",
      "                                                                                  'id': 'Q328',\n",
      "                                                                                  'numeric-id': 328}},\n",
      "                                                          'hash': 'e4f6d9441d0600513c4533c672b5ab472dc73694',\n",
      "                                                          'property': 'P143',\n",
      "                                                          'snaktype': 'value'}]},\n",
      "                                      'snaks-order': ['P143']}]},\n",
      "           'id': 1284114320,\n",
      "           'parent_id': 1284114313,\n",
      "           'timestamp': '2020-09-29T13:26:11Z',\n",
      "           'username': 'Pi bot'}},\n",
      " {'_id': ObjectId('6206d58e228b9245ac7292aa'),\n",
      "  'revs': {'comment': '/* wbeditentity-update-languages-short:0||nl */ '\n",
      "                      'nl-description, '\n",
      "                      '[[User:Edoderoobot/Set-nl-description|python code]] - '\n",
      "                      'person',\n",
      "           'entity_diff': {'op': 'add',\n",
      "                           'path': '/labels/nl',\n",
      "                           'value': {'language': 'nl',\n",
      "                                     'value': 'Potter Payper'}},\n",
      "           'id': 1284130499,\n",
      "           'parent_id': 1284114320,\n",
      "           'timestamp': '2020-09-29T14:05:42Z',\n",
      "           'username': 'Edoderoobot'}}]\n"
     ]
    }
   ],
   "source": [
    "HUMAN_QID = 'Q5'\n",
    "\n",
    "pprint.pprint(list(get_properties_edited_deciles(wd_entities, ids, 4))[:20])"
   ]
  },
  {
   "cell_type": "markdown",
   "id": "996b2512-4640-4bad-98aa-5adcc13283a4",
   "metadata": {},
   "source": [
    "## TODO\n",
    "- ver si existe una correlación entre las ediciones (numero medio de ediciones, de borrados...) y la importancia de cada clase (valor classrank) -> scatter plot/analisis de correlacion\n",
    "- obtener clases más \"estables\"/en las que hay más consenso. p.ej. mirar la media de ediciones por clase, o la media de borrados por clase. etc\n",
    "- sacar propiedades más añadidas/eliminadas por clase (y global) tanto en general como en cada decil (primer decil, segundo decil...)\n",
    "- mismo de arriba pero en vez de por deciles a nivel temporal (en el primer dia, la primera semana, el primer mes, el primer año, despúes...)\n",
    "- sacar propiedades más comunes en cada clase\n",
    "- ver si podemos detectar vandalismo y quitarlo de las medidas (p.ej. una entidad muy conocido puede tener mucho vandalismo que nos haga pensar que no es estable cuando en realidad igual sí lo es)\n"
   ]
  },
  {
   "cell_type": "code",
   "execution_count": null,
   "id": "610c09f6-781f-40ea-a1f7-7ff420eb1506",
   "metadata": {},
   "outputs": [],
   "source": []
  },
  {
   "cell_type": "markdown",
   "id": "9cd8fdef-e8c4-4f5f-a529-e8c35ec73f67",
   "metadata": {},
   "source": []
  }
 ],
 "metadata": {
  "kernelspec": {
   "display_name": "Python 3 (ipykernel)",
   "language": "python",
   "name": "python3"
  },
  "language_info": {
   "codemirror_mode": {
    "name": "ipython",
    "version": 3
   },
   "file_extension": ".py",
   "mimetype": "text/x-python",
   "name": "python",
   "nbconvert_exporter": "python",
   "pygments_lexer": "ipython3",
   "version": "3.9.7"
  }
 },
 "nbformat": 4,
 "nbformat_minor": 5
}
