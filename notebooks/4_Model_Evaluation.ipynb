{
 "cells": [
  {
   "cell_type": "markdown",
   "id": "9d46ee87-7b0d-4461-9e7f-bad7a37e78d3",
   "metadata": {},
   "source": [
    "# 4.- Model evaluation"
   ]
  },
  {
   "cell_type": "markdown",
   "id": "64f53d6d-68c8-4e72-80fe-abae3d2034b7",
   "metadata": {},
   "source": [
    "## Notebook setup"
   ]
  },
  {
   "cell_type": "code",
   "execution_count": 1,
   "id": "c7b509f2-e01f-4be3-9388-103f32a7e1a5",
   "metadata": {},
   "outputs": [],
   "source": [
    "import os\n",
    "import pandas as pd\n",
    "import pickle\n",
    "\n",
    "from tqdm.auto import tqdm"
   ]
  },
  {
   "cell_type": "code",
   "execution_count": 2,
   "id": "1b776d1b-773f-470c-b2e1-31fe46d5a405",
   "metadata": {},
   "outputs": [],
   "source": [
    "from rdflib import Namespace, Graph, URIRef, Literal, BNode\n",
    "from rdflib.namespace import FOAF, RDF, RDFS\n",
    "\n",
    "geo = Namespace(\"http://www.opengis.net/ont/geosparql#\")\n",
    "uo = Namespace(\"https://purl.org/uniovi/wd-edit-history#\")\n",
    "wd = Namespace(\"http://www.wikidata.org/entity/\")\n",
    "wdt = Namespace(\"http://www.wikidata.org/prop/direct/\")\n",
    "wdno = Namespace(\"http://www.wikidata.org/prop/novalue/\")"
   ]
  },
  {
   "cell_type": "code",
   "execution_count": 3,
   "id": "b50a3636-05f5-4cbd-9cb3-9a9a1bc7dff7",
   "metadata": {},
   "outputs": [],
   "source": [
    "REFINEMENT_SYSTEMS_OUTPUT_DIR = os.path.join('output', '3_edit_history_systems')\n",
    "TRAINED_MODELS_DIR = os.path.join('output', '3_edit_history_systems', 'models')\n",
    "OUTPUT_DIR = os.path.join('output', '4_model_evaluation')\n",
    "\n",
    "RANDOM_SEED = 42\n",
    "\n",
    "WIKIDATA_BASE = \"https://www.wikidata.org/w/api.php\""
   ]
  },
  {
   "cell_type": "code",
   "execution_count": 4,
   "id": "1193f259-d468-4960-bece-93136a214d41",
   "metadata": {},
   "outputs": [],
   "source": [
    "import logging\n",
    "\n",
    "log_format = \"%(levelname)s %(asctime)s - %(message)s\"\n",
    "logging.basicConfig(filename = \"evaluation_logs.log\",\n",
    "                    filemode = \"w\",\n",
    "                    format = log_format, \n",
    "                    level = logging.INFO)\n",
    "logger = logging.getLogger()"
   ]
  },
  {
   "cell_type": "code",
   "execution_count": 5,
   "id": "15b536df-b2b2-4065-b266-3352c7eacf59",
   "metadata": {},
   "outputs": [],
   "source": [
    "def load_df(filename):\n",
    "    with open(os.path.join(OUTPUT_DIR, f\"{filename}.pkl\"), 'rb') as f:\n",
    "        return pickle.load(f)\n",
    "\n",
    "def save_df(df, filename):\n",
    "    with open(os.path.join(OUTPUT_DIR, f\"{filename}.pkl\"), 'wb') as f:\n",
    "        pickle.dump(df, f)"
   ]
  },
  {
   "cell_type": "code",
   "execution_count": 6,
   "id": "6bc4dc34-ec7b-454d-8c71-f7169705b4a2",
   "metadata": {},
   "outputs": [],
   "source": [
    "train_graph_static = Graph().parse(os.path.join(REFINEMENT_SYSTEMS_OUTPUT_DIR, 'complete_train_graph_static.ttl'), format='ttl')\n",
    "test_graph_static = Graph().parse(os.path.join(REFINEMENT_SYSTEMS_OUTPUT_DIR, 'test_graph_sample_static.ttl'), format='ttl')"
   ]
  },
  {
   "cell_type": "code",
   "execution_count": 7,
   "id": "15ee262a-0276-4e30-96b6-18a90649293d",
   "metadata": {},
   "outputs": [],
   "source": [
    "import pdb\n",
    "import numpy as np\n",
    "import torch\n",
    "\n",
    "from pykeen.triples import TriplesFactory\n",
    "\n",
    "known_entities = set()\n",
    "known_relations = set()\n",
    "\n",
    "def entity_hashed_id(entity_uri):\n",
    "    return hash(entity_uri.split('/')[-1])\n",
    "\n",
    "def build_triples_factory_train(graph):\n",
    "    triples = []\n",
    "    for t in graph:\n",
    "        if not t[2].startswith(str(wdt)) and not t[2].startswith(str(wd)):\n",
    "            continue\n",
    "            \n",
    "        triple_str = [str(t[0]), str(t[1]), str(t[2])]\n",
    "        if triple_str[0] not in known_entities:\n",
    "            known_entities.add(triple_str[0])\n",
    "        \n",
    "        if triple_str[1] not in known_relations:\n",
    "            known_relations.add(triple_str[1])\n",
    "        \n",
    "        if triple_str[2] not in known_entities:\n",
    "            known_entities.add(triple_str[2])\n",
    "\n",
    "        triples.append(triple_str)\n",
    "    return TriplesFactory.from_labeled_triples(np.array(triples))\n",
    "\n",
    "def build_triples_factory_test(graph, train_tf):\n",
    "    triples = []\n",
    "    for t in graph:\n",
    "        if not t[2].startswith(str(wdt)) and not t[2].startswith(str(wd)):\n",
    "            continue\n",
    "        \n",
    "        triple_str = [str(t[0]), str(t[1]), str(t[2])]\n",
    "        if triple_str[0] not in known_entities or triple_str[1] not in known_relations or triple_str[2] not in known_entities:\n",
    "            continue\n",
    "        triples.append(triple_str)\n",
    "\n",
    "    return TriplesFactory.from_labeled_triples(np.array(triples), entity_to_id=train_tf.entity_to_id, relation_to_id=train_tf.relation_to_id)\n",
    "\n",
    "tf_train = build_triples_factory_train(train_graph_static)\n",
    "tf_test = build_triples_factory_test(test_graph_static, tf_train)"
   ]
  },
  {
   "cell_type": "markdown",
   "id": "1c9b37ca-997c-43eb-a0af-1525df7cf3f0",
   "metadata": {},
   "source": [
    "## Defining the evaluation metrics"
   ]
  },
  {
   "cell_type": "code",
   "execution_count": 8,
   "id": "65558ed6-6e58-4d23-8bf4-b126c493940a",
   "metadata": {},
   "outputs": [],
   "source": [
    "def hits_at_n(ranks, n):\n",
    "    return sum([1 if r <= n else 0 for r in ranks]) / len(ranks)\n",
    "\n",
    "def mr_score(ranks):\n",
    "    mr_score = 0\n",
    "    for r in ranks:\n",
    "        mr_score += r\n",
    "    return mr_score / len(ranks)\n",
    "\n",
    "def mrr_score(ranks):\n",
    "    mr_score = 0\n",
    "    for r in ranks:\n",
    "        mr_score += 1 / r\n",
    "    return mr_score / len(ranks)"
   ]
  },
  {
   "cell_type": "markdown",
   "id": "145a262f-4331-4536-84fb-5aef5daaad0f",
   "metadata": {},
   "source": [
    "## Testing functions"
   ]
  },
  {
   "cell_type": "code",
   "execution_count": 9,
   "id": "c3bb659d-4020-49bf-bc0e-03535324a9c8",
   "metadata": {},
   "outputs": [],
   "source": [
    "import pdb\n",
    "\n",
    "def get_testing_entities(test_graph_static, prop = None):\n",
    "    # get all entities that have a new P31 value in the test data\n",
    "    entities_test = set()\n",
    "    for t in test_graph_static.triples((None, prop, None)):\n",
    "        entities_test.add((str(t[0]), str(t[1]), str(t[2])))\n",
    "    return entities_test"
   ]
  },
  {
   "cell_type": "code",
   "execution_count": 16,
   "id": "4ab954c3-2f1e-441b-a04b-80477aa70a5e",
   "metadata": {},
   "outputs": [],
   "source": [
    "def test_supervised(model, entities_test, entity_2_embeddings, all_classes):\n",
    "    ranks = []\n",
    "    misses = 0\n",
    "    _all = 0\n",
    "    \n",
    "    # generic model useful for any property, embeddings = subj + prop + obj\n",
    "    embedding_size = len(list(entity_2_embeddings.values())[0])\n",
    "    X = np.zeros((len(all_classes), embedding_size * 3))\n",
    "    for i, kg_class in enumerate(all_classes):\n",
    "        X[i, 2*embedding_size:] = entity_2_embeddings[kg_class]\n",
    "        \n",
    "    \n",
    "    for entity, prop, true_class in tqdm(entities_test):\n",
    "        _all += 1\n",
    "\n",
    "        X[:, :embedding_size] = entity_2_embeddings[entity]\n",
    "        X[:, embedding_size:2*embedding_size] = entity_2_embeddings[prop]\n",
    "\n",
    "        pred = model.predict_proba(X)\n",
    "        entity_results = [(kg_class, pred[idx][1]) for idx, kg_class in enumerate(all_classes)]\n",
    "        entity_results.sort(key=lambda item: item[1], reverse=True)\n",
    "        sorted_predictions = [e[0] for e in entity_results]\n",
    "        if true_class not in sorted_predictions:\n",
    "            misses += 1\n",
    "            continue\n",
    "        idx = sorted_predictions.index(true_class)\n",
    "        ranks.append(idx + 1)\n",
    "    return ranks, misses, _all"
   ]
  },
  {
   "cell_type": "code",
   "execution_count": 11,
   "id": "e3459047-af3b-4aef-9a3a-2809a6a8b928",
   "metadata": {},
   "outputs": [],
   "source": [
    "from pykeen.models import predict\n",
    "\n",
    "def test_unsupervised(model, entities_test, triples_factory, train_graph_static):\n",
    "    ranks = []\n",
    "    misses = 0\n",
    "    _all = 0\n",
    "    for entity, prop, true_class in tqdm(entities_test):\n",
    "        _all += 1\n",
    "        if entity not in triples_factory.entity_to_id or prop not in triples_factory.relation_to_id:\n",
    "            misses += 1\n",
    "            continue\n",
    "        \n",
    "        pred_df = predict.get_tail_prediction_df(model, entity, str(prop), triples_factory=triples_factory, add_novelties=False)\n",
    "        pred_rank = 1\n",
    "        for row in pred_df.itertuples():\n",
    "            if row[2] == true_class:\n",
    "                ranks.append(pred_rank)\n",
    "                break\n",
    "            else:\n",
    "                # manual filtering of known triples\n",
    "                if (URIRef(entity), URIRef(prop), URIRef(row[2])) not in train_graph_static:\n",
    "                    pred_rank += 1\n",
    "    return ranks, misses, _all"
   ]
  },
  {
   "cell_type": "code",
   "execution_count": 12,
   "id": "1b8ea108-d49c-4476-ad32-2c08e4d52eed",
   "metadata": {},
   "outputs": [],
   "source": [
    "def test_sdtype(sdtype_result_graph, entities_test, train_graph_static):\n",
    "    ranks = []\n",
    "    misses = 0\n",
    "    _all = 0\n",
    "    for entity, prop, true_class in tqdm(entities_test):\n",
    "        _all += 1\n",
    "        if _all == 100:\n",
    "            break\n",
    "        \n",
    "        preds = list(sdtype_result_graph.predicate_objects(subject=URIRef(entity)))\n",
    "        print(len(preds))\n",
    "        if len(preds) == 0:\n",
    "            misses += 1\n",
    "            continue\n",
    "        \n",
    "        preds.sort(key=lambda x: float(x[1]), reverse=True)\n",
    "        pred_rank = 1\n",
    "        for obj, _ in preds:\n",
    "            if str(obj) == true_class:\n",
    "                ranks.append(pred_rank)\n",
    "                break\n",
    "            else:\n",
    "                # manual filtering of known triples\n",
    "                if (URIRef(entity), URIRef(prop), obj) not in train_graph_static:\n",
    "                    pred_rank += 1\n",
    "    return ranks, misses, _all"
   ]
  },
  {
   "cell_type": "markdown",
   "id": "ebf71ef3-8cee-4ce1-8777-5b1e3a306873",
   "metadata": {},
   "source": [
    "## Evaluating the models"
   ]
  },
  {
   "cell_type": "code",
   "execution_count": 13,
   "id": "c9910885-9b6d-42be-9c0e-17bdcdb09f3a",
   "metadata": {},
   "outputs": [],
   "source": [
    "props_to_evaluate = [wdt.P31,\n",
    "                     wdt.P106, wdt.P27, # human: occupation; country of citizenship\n",
    "                     wdt.P36, wdt.P30, wdt.P37, wdt.P131, # 'places': capital; continent; legislative body; official language; located in\n",
    "                     wdt.P57, wdt.P136 # literary work: director; genre; author\n",
    "                    ]"
   ]
  },
  {
   "cell_type": "code",
   "execution_count": 37,
   "id": "39861ea5-dfb2-4d4b-9250-5d6d53708663",
   "metadata": {},
   "outputs": [
    {
     "name": "stdout",
     "output_type": "stream",
     "text": [
      "http://www.wikidata.org/prop/direct/P31 - count=4186\n"
     ]
    }
   ],
   "source": [
    "for prop in props_to_evaluate:\n",
    "    count = len(list(test_graph_static.triples((None, prop, None))))\n",
    "    print(f\"{str(prop)} - count={count}\")"
   ]
  },
  {
   "cell_type": "markdown",
   "id": "0ce7a9f1-5147-4ccf-94f6-62475885645d",
   "metadata": {},
   "source": [
    "### Unsupervised models"
   ]
  },
  {
   "cell_type": "code",
   "execution_count": null,
   "id": "883ddcbd-defa-4320-8e10-d677e9c13283",
   "metadata": {
    "collapsed": true,
    "jupyter": {
     "outputs_hidden": true
    },
    "tags": []
   },
   "outputs": [
    {
     "data": {
      "application/vnd.jupyter.widget-view+json": {
       "model_id": "9412bffccaec45d3bb3d53d670e50fe2",
       "version_major": 2,
       "version_minor": 0
      },
      "text/plain": [
       "  0%|          | 0/32 [00:00<?, ?it/s]"
      ]
     },
     "metadata": {},
     "output_type": "display_data"
    },
    {
     "name": "stderr",
     "output_type": "stream",
     "text": [
      "/opt/conda/lib/python3.9/site-packages/pykeen/nn/representation.py:375: UserWarning: Directly use Embedding.shape instead of num_embeddings.\n",
      "  warnings.warn(f\"Directly use {self.__class__.__name__}.shape instead of num_embeddings.\")\n"
     ]
    },
    {
     "data": {
      "application/vnd.jupyter.widget-view+json": {
       "model_id": "7b3b419dc58f4164bc2673b35cfb55a4",
       "version_major": 2,
       "version_minor": 0
      },
      "text/plain": [
       "  0%|          | 0/32 [00:00<?, ?it/s]"
      ]
     },
     "metadata": {},
     "output_type": "display_data"
    },
    {
     "data": {
      "application/vnd.jupyter.widget-view+json": {
       "model_id": "770d7e8f23d74c61b29aee11d8abecff",
       "version_major": 2,
       "version_minor": 0
      },
      "text/plain": [
       "  0%|          | 0/32 [00:00<?, ?it/s]"
      ]
     },
     "metadata": {},
     "output_type": "display_data"
    },
    {
     "data": {
      "application/vnd.jupyter.widget-view+json": {
       "model_id": "49657e75f1dc4626b99c1a8fbfe17a57",
       "version_major": 2,
       "version_minor": 0
      },
      "text/plain": [
       "  0%|          | 0/32 [00:00<?, ?it/s]"
      ]
     },
     "metadata": {},
     "output_type": "display_data"
    },
    {
     "data": {
      "application/vnd.jupyter.widget-view+json": {
       "model_id": "94296e61e03c45bb9fe0565d130ac70b",
       "version_major": 2,
       "version_minor": 0
      },
      "text/plain": [
       "  0%|          | 0/32 [00:00<?, ?it/s]"
      ]
     },
     "metadata": {},
     "output_type": "display_data"
    },
    {
     "data": {
      "application/vnd.jupyter.widget-view+json": {
       "model_id": "ba55f918d0c04d3f82daca5701f73a06",
       "version_major": 2,
       "version_minor": 0
      },
      "text/plain": [
       "  0%|          | 0/32 [00:00<?, ?it/s]"
      ]
     },
     "metadata": {},
     "output_type": "display_data"
    },
    {
     "data": {
      "application/vnd.jupyter.widget-view+json": {
       "model_id": "6b2a6005fc514af7b1a1444e898a0be2",
       "version_major": 2,
       "version_minor": 0
      },
      "text/plain": [
       "  0%|          | 0/32 [00:00<?, ?it/s]"
      ]
     },
     "metadata": {},
     "output_type": "display_data"
    },
    {
     "data": {
      "application/vnd.jupyter.widget-view+json": {
       "model_id": "23c2e4e77ff0439ab97e8205ec0b5cec",
       "version_major": 2,
       "version_minor": 0
      },
      "text/plain": [
       "  0%|          | 0/32 [00:00<?, ?it/s]"
      ]
     },
     "metadata": {},
     "output_type": "display_data"
    },
    {
     "data": {
      "application/vnd.jupyter.widget-view+json": {
       "model_id": "dc475910e83b41dab2a0203bec9ad0ea",
       "version_major": 2,
       "version_minor": 0
      },
      "text/plain": [
       "  0%|          | 0/32 [00:00<?, ?it/s]"
      ]
     },
     "metadata": {},
     "output_type": "display_data"
    },
    {
     "data": {
      "application/vnd.jupyter.widget-view+json": {
       "model_id": "0866da0c060e41088e428f347f10fb62",
       "version_major": 2,
       "version_minor": 0
      },
      "text/plain": [
       "  0%|          | 0/32 [00:00<?, ?it/s]"
      ]
     },
     "metadata": {},
     "output_type": "display_data"
    },
    {
     "data": {
      "application/vnd.jupyter.widget-view+json": {
       "model_id": "af7fddbffe2a4e3fa0732e40fa9b9e6a",
       "version_major": 2,
       "version_minor": 0
      },
      "text/plain": [
       "  0%|          | 0/32 [00:00<?, ?it/s]"
      ]
     },
     "metadata": {},
     "output_type": "display_data"
    },
    {
     "data": {
      "application/vnd.jupyter.widget-view+json": {
       "model_id": "4bf6f6b8b40342b586470e66ca8d79cd",
       "version_major": 2,
       "version_minor": 0
      },
      "text/plain": [
       "  0%|          | 0/32 [00:00<?, ?it/s]"
      ]
     },
     "metadata": {},
     "output_type": "display_data"
    },
    {
     "data": {
      "application/vnd.jupyter.widget-view+json": {
       "model_id": "0932aa00d4d545569a4a69d068364907",
       "version_major": 2,
       "version_minor": 0
      },
      "text/plain": [
       "  0%|          | 0/29 [00:00<?, ?it/s]"
      ]
     },
     "metadata": {},
     "output_type": "display_data"
    },
    {
     "data": {
      "application/vnd.jupyter.widget-view+json": {
       "model_id": "00b4452d3bc342bead1f94dcbdc4e37c",
       "version_major": 2,
       "version_minor": 0
      },
      "text/plain": [
       "  0%|          | 0/29 [00:00<?, ?it/s]"
      ]
     },
     "metadata": {},
     "output_type": "display_data"
    },
    {
     "data": {
      "application/vnd.jupyter.widget-view+json": {
       "model_id": "4806bc74ae9e42458f30207304df1a70",
       "version_major": 2,
       "version_minor": 0
      },
      "text/plain": [
       "  0%|          | 0/29 [00:00<?, ?it/s]"
      ]
     },
     "metadata": {},
     "output_type": "display_data"
    },
    {
     "data": {
      "application/vnd.jupyter.widget-view+json": {
       "model_id": "856a5ac5b8b34129ad710d6a8ec3775d",
       "version_major": 2,
       "version_minor": 0
      },
      "text/plain": [
       "  0%|          | 0/29 [00:00<?, ?it/s]"
      ]
     },
     "metadata": {},
     "output_type": "display_data"
    },
    {
     "data": {
      "application/vnd.jupyter.widget-view+json": {
       "model_id": "7094cf754e224f348d1c5266b05ca950",
       "version_major": 2,
       "version_minor": 0
      },
      "text/plain": [
       "  0%|          | 0/29 [00:00<?, ?it/s]"
      ]
     },
     "metadata": {},
     "output_type": "display_data"
    },
    {
     "data": {
      "application/vnd.jupyter.widget-view+json": {
       "model_id": "73850215669a4df7bde9d0da22b091eb",
       "version_major": 2,
       "version_minor": 0
      },
      "text/plain": [
       "  0%|          | 0/29 [00:00<?, ?it/s]"
      ]
     },
     "metadata": {},
     "output_type": "display_data"
    },
    {
     "data": {
      "application/vnd.jupyter.widget-view+json": {
       "model_id": "d17f534f24f44c1994d30483c84ca564",
       "version_major": 2,
       "version_minor": 0
      },
      "text/plain": [
       "  0%|          | 0/29 [00:00<?, ?it/s]"
      ]
     },
     "metadata": {},
     "output_type": "display_data"
    },
    {
     "data": {
      "application/vnd.jupyter.widget-view+json": {
       "model_id": "a97a6b32fe1843f8a84deae3ea41254f",
       "version_major": 2,
       "version_minor": 0
      },
      "text/plain": [
       "  0%|          | 0/29 [00:00<?, ?it/s]"
      ]
     },
     "metadata": {},
     "output_type": "display_data"
    },
    {
     "data": {
      "application/vnd.jupyter.widget-view+json": {
       "model_id": "f1128fe76aaf453fa5c03c8bcc3cc898",
       "version_major": 2,
       "version_minor": 0
      },
      "text/plain": [
       "  0%|          | 0/29 [00:00<?, ?it/s]"
      ]
     },
     "metadata": {},
     "output_type": "display_data"
    },
    {
     "data": {
      "application/vnd.jupyter.widget-view+json": {
       "model_id": "10dc62e01d484fcf83cde95f456016f7",
       "version_major": 2,
       "version_minor": 0
      },
      "text/plain": [
       "  0%|          | 0/29 [00:00<?, ?it/s]"
      ]
     },
     "metadata": {},
     "output_type": "display_data"
    },
    {
     "data": {
      "application/vnd.jupyter.widget-view+json": {
       "model_id": "107a56f66fdb415f86eb257196320c60",
       "version_major": 2,
       "version_minor": 0
      },
      "text/plain": [
       "  0%|          | 0/29 [00:00<?, ?it/s]"
      ]
     },
     "metadata": {},
     "output_type": "display_data"
    },
    {
     "data": {
      "application/vnd.jupyter.widget-view+json": {
       "model_id": "6d87ebe4631b4f70bdfc28bbcbc100f7",
       "version_major": 2,
       "version_minor": 0
      },
      "text/plain": [
       "  0%|          | 0/29 [00:00<?, ?it/s]"
      ]
     },
     "metadata": {},
     "output_type": "display_data"
    },
    {
     "data": {
      "application/vnd.jupyter.widget-view+json": {
       "model_id": "d793b52f16f34427840266cbd8e93ffd",
       "version_major": 2,
       "version_minor": 0
      },
      "text/plain": [
       "  0%|          | 0/54 [00:00<?, ?it/s]"
      ]
     },
     "metadata": {},
     "output_type": "display_data"
    },
    {
     "data": {
      "application/vnd.jupyter.widget-view+json": {
       "model_id": "5bb78ba46ba94c7883b03b6ebd34fe3a",
       "version_major": 2,
       "version_minor": 0
      },
      "text/plain": [
       "  0%|          | 0/54 [00:00<?, ?it/s]"
      ]
     },
     "metadata": {},
     "output_type": "display_data"
    },
    {
     "data": {
      "application/vnd.jupyter.widget-view+json": {
       "model_id": "87350f0224414ef482577bfd336860a2",
       "version_major": 2,
       "version_minor": 0
      },
      "text/plain": [
       "  0%|          | 0/54 [00:00<?, ?it/s]"
      ]
     },
     "metadata": {},
     "output_type": "display_data"
    },
    {
     "data": {
      "application/vnd.jupyter.widget-view+json": {
       "model_id": "77635d4fcece4ab9a4861dab3849d1ca",
       "version_major": 2,
       "version_minor": 0
      },
      "text/plain": [
       "  0%|          | 0/54 [00:00<?, ?it/s]"
      ]
     },
     "metadata": {},
     "output_type": "display_data"
    },
    {
     "data": {
      "application/vnd.jupyter.widget-view+json": {
       "model_id": "9b71d17114b54105a99ac6a89f507b8c",
       "version_major": 2,
       "version_minor": 0
      },
      "text/plain": [
       "  0%|          | 0/54 [00:00<?, ?it/s]"
      ]
     },
     "metadata": {},
     "output_type": "display_data"
    },
    {
     "data": {
      "application/vnd.jupyter.widget-view+json": {
       "model_id": "fa494baf8c0b488e81ff071a369b7022",
       "version_major": 2,
       "version_minor": 0
      },
      "text/plain": [
       "  0%|          | 0/54 [00:00<?, ?it/s]"
      ]
     },
     "metadata": {},
     "output_type": "display_data"
    },
    {
     "data": {
      "application/vnd.jupyter.widget-view+json": {
       "model_id": "b87bdc7959644783b4d796a562f9ce17",
       "version_major": 2,
       "version_minor": 0
      },
      "text/plain": [
       "  0%|          | 0/54 [00:00<?, ?it/s]"
      ]
     },
     "metadata": {},
     "output_type": "display_data"
    },
    {
     "data": {
      "application/vnd.jupyter.widget-view+json": {
       "model_id": "6e9179eba86845aea664fafc67d51524",
       "version_major": 2,
       "version_minor": 0
      },
      "text/plain": [
       "  0%|          | 0/54 [00:00<?, ?it/s]"
      ]
     },
     "metadata": {},
     "output_type": "display_data"
    },
    {
     "data": {
      "application/vnd.jupyter.widget-view+json": {
       "model_id": "4eb326ae00f8451ab313b22ff3c01a67",
       "version_major": 2,
       "version_minor": 0
      },
      "text/plain": [
       "  0%|          | 0/54 [00:00<?, ?it/s]"
      ]
     },
     "metadata": {},
     "output_type": "display_data"
    },
    {
     "data": {
      "application/vnd.jupyter.widget-view+json": {
       "model_id": "64e0294047bd427797c32b038254829b",
       "version_major": 2,
       "version_minor": 0
      },
      "text/plain": [
       "  0%|          | 0/54 [00:00<?, ?it/s]"
      ]
     },
     "metadata": {},
     "output_type": "display_data"
    },
    {
     "data": {
      "application/vnd.jupyter.widget-view+json": {
       "model_id": "679ab19b7dc3408a90c9cd2386c91a4d",
       "version_major": 2,
       "version_minor": 0
      },
      "text/plain": [
       "  0%|          | 0/54 [00:00<?, ?it/s]"
      ]
     },
     "metadata": {},
     "output_type": "display_data"
    },
    {
     "data": {
      "application/vnd.jupyter.widget-view+json": {
       "model_id": "08af8bd2bceb48e2ba82d5d130126e08",
       "version_major": 2,
       "version_minor": 0
      },
      "text/plain": [
       "  0%|          | 0/54 [00:00<?, ?it/s]"
      ]
     },
     "metadata": {},
     "output_type": "display_data"
    },
    {
     "data": {
      "application/vnd.jupyter.widget-view+json": {
       "model_id": "82cf42f8a00245e0a8dc843d36cca6da",
       "version_major": 2,
       "version_minor": 0
      },
      "text/plain": [
       "  0%|          | 0/88 [00:00<?, ?it/s]"
      ]
     },
     "metadata": {},
     "output_type": "display_data"
    },
    {
     "data": {
      "application/vnd.jupyter.widget-view+json": {
       "model_id": "1aa036f883b24adbbcaa895ded830c74",
       "version_major": 2,
       "version_minor": 0
      },
      "text/plain": [
       "  0%|          | 0/88 [00:00<?, ?it/s]"
      ]
     },
     "metadata": {},
     "output_type": "display_data"
    },
    {
     "data": {
      "application/vnd.jupyter.widget-view+json": {
       "model_id": "d987498634bd400db515eb9fa206b280",
       "version_major": 2,
       "version_minor": 0
      },
      "text/plain": [
       "  0%|          | 0/88 [00:00<?, ?it/s]"
      ]
     },
     "metadata": {},
     "output_type": "display_data"
    },
    {
     "data": {
      "application/vnd.jupyter.widget-view+json": {
       "model_id": "647ba0dbb4fb4b5fac4817a433ec21c6",
       "version_major": 2,
       "version_minor": 0
      },
      "text/plain": [
       "  0%|          | 0/88 [00:00<?, ?it/s]"
      ]
     },
     "metadata": {},
     "output_type": "display_data"
    },
    {
     "data": {
      "application/vnd.jupyter.widget-view+json": {
       "model_id": "7dbe1981a52b401297d4df3df7e64e45",
       "version_major": 2,
       "version_minor": 0
      },
      "text/plain": [
       "  0%|          | 0/88 [00:00<?, ?it/s]"
      ]
     },
     "metadata": {},
     "output_type": "display_data"
    },
    {
     "data": {
      "application/vnd.jupyter.widget-view+json": {
       "model_id": "77bcc1fcecf34990b68d48e65a52d3a5",
       "version_major": 2,
       "version_minor": 0
      },
      "text/plain": [
       "  0%|          | 0/88 [00:00<?, ?it/s]"
      ]
     },
     "metadata": {},
     "output_type": "display_data"
    },
    {
     "data": {
      "application/vnd.jupyter.widget-view+json": {
       "model_id": "938ceae5d224495996b23dd213aa7951",
       "version_major": 2,
       "version_minor": 0
      },
      "text/plain": [
       "  0%|          | 0/88 [00:00<?, ?it/s]"
      ]
     },
     "metadata": {},
     "output_type": "display_data"
    },
    {
     "data": {
      "application/vnd.jupyter.widget-view+json": {
       "model_id": "53d299dd747a46249669ed2a1f025492",
       "version_major": 2,
       "version_minor": 0
      },
      "text/plain": [
       "  0%|          | 0/88 [00:00<?, ?it/s]"
      ]
     },
     "metadata": {},
     "output_type": "display_data"
    },
    {
     "data": {
      "application/vnd.jupyter.widget-view+json": {
       "model_id": "1f6baa8700ec495690e426e45bdaefdd",
       "version_major": 2,
       "version_minor": 0
      },
      "text/plain": [
       "  0%|          | 0/88 [00:00<?, ?it/s]"
      ]
     },
     "metadata": {},
     "output_type": "display_data"
    },
    {
     "data": {
      "application/vnd.jupyter.widget-view+json": {
       "model_id": "4b28c4771b8147e99f1ac4354e7a08a4",
       "version_major": 2,
       "version_minor": 0
      },
      "text/plain": [
       "  0%|          | 0/88 [00:00<?, ?it/s]"
      ]
     },
     "metadata": {},
     "output_type": "display_data"
    },
    {
     "data": {
      "application/vnd.jupyter.widget-view+json": {
       "model_id": "8e8544cc442f453db2e104e8fe611119",
       "version_major": 2,
       "version_minor": 0
      },
      "text/plain": [
       "  0%|          | 0/88 [00:00<?, ?it/s]"
      ]
     },
     "metadata": {},
     "output_type": "display_data"
    },
    {
     "data": {
      "application/vnd.jupyter.widget-view+json": {
       "model_id": "ef59f19211a146acbc32180e26c67275",
       "version_major": 2,
       "version_minor": 0
      },
      "text/plain": [
       "  0%|          | 0/88 [00:00<?, ?it/s]"
      ]
     },
     "metadata": {},
     "output_type": "display_data"
    },
    {
     "data": {
      "application/vnd.jupyter.widget-view+json": {
       "model_id": "1fc54fd444b44178bbe32c3ecb8cec8a",
       "version_major": 2,
       "version_minor": 0
      },
      "text/plain": [
       "  0%|          | 0/125 [00:00<?, ?it/s]"
      ]
     },
     "metadata": {},
     "output_type": "display_data"
    },
    {
     "data": {
      "application/vnd.jupyter.widget-view+json": {
       "model_id": "727cf0fef990439083258a9219722bf6",
       "version_major": 2,
       "version_minor": 0
      },
      "text/plain": [
       "  0%|          | 0/125 [00:00<?, ?it/s]"
      ]
     },
     "metadata": {},
     "output_type": "display_data"
    },
    {
     "data": {
      "application/vnd.jupyter.widget-view+json": {
       "model_id": "c1a3503e49bc4550a11af7e85fe88839",
       "version_major": 2,
       "version_minor": 0
      },
      "text/plain": [
       "  0%|          | 0/125 [00:00<?, ?it/s]"
      ]
     },
     "metadata": {},
     "output_type": "display_data"
    },
    {
     "data": {
      "application/vnd.jupyter.widget-view+json": {
       "model_id": "140806dd625648f685b08c1965436c62",
       "version_major": 2,
       "version_minor": 0
      },
      "text/plain": [
       "  0%|          | 0/125 [00:00<?, ?it/s]"
      ]
     },
     "metadata": {},
     "output_type": "display_data"
    },
    {
     "data": {
      "application/vnd.jupyter.widget-view+json": {
       "model_id": "30dd2e95c639460e81afcbf292674094",
       "version_major": 2,
       "version_minor": 0
      },
      "text/plain": [
       "  0%|          | 0/125 [00:00<?, ?it/s]"
      ]
     },
     "metadata": {},
     "output_type": "display_data"
    },
    {
     "data": {
      "application/vnd.jupyter.widget-view+json": {
       "model_id": "1bdcf21bfc5944a2b7b0b1de515ad35c",
       "version_major": 2,
       "version_minor": 0
      },
      "text/plain": [
       "  0%|          | 0/125 [00:00<?, ?it/s]"
      ]
     },
     "metadata": {},
     "output_type": "display_data"
    },
    {
     "data": {
      "application/vnd.jupyter.widget-view+json": {
       "model_id": "9ba5ba0e9c8a4431add891fbb7b63ad1",
       "version_major": 2,
       "version_minor": 0
      },
      "text/plain": [
       "  0%|          | 0/125 [00:00<?, ?it/s]"
      ]
     },
     "metadata": {},
     "output_type": "display_data"
    },
    {
     "data": {
      "application/vnd.jupyter.widget-view+json": {
       "model_id": "f302a2af673446a3b4c9c3d92ed7122d",
       "version_major": 2,
       "version_minor": 0
      },
      "text/plain": [
       "  0%|          | 0/125 [00:00<?, ?it/s]"
      ]
     },
     "metadata": {},
     "output_type": "display_data"
    },
    {
     "data": {
      "application/vnd.jupyter.widget-view+json": {
       "model_id": "8c7066d641484f678ea41e11950b7d53",
       "version_major": 2,
       "version_minor": 0
      },
      "text/plain": [
       "  0%|          | 0/125 [00:00<?, ?it/s]"
      ]
     },
     "metadata": {},
     "output_type": "display_data"
    },
    {
     "data": {
      "application/vnd.jupyter.widget-view+json": {
       "model_id": "0380189d395e4378aa50303de5317240",
       "version_major": 2,
       "version_minor": 0
      },
      "text/plain": [
       "  0%|          | 0/125 [00:00<?, ?it/s]"
      ]
     },
     "metadata": {},
     "output_type": "display_data"
    },
    {
     "data": {
      "application/vnd.jupyter.widget-view+json": {
       "model_id": "2f00eb0e3080483682c9036aa02817af",
       "version_major": 2,
       "version_minor": 0
      },
      "text/plain": [
       "  0%|          | 0/125 [00:00<?, ?it/s]"
      ]
     },
     "metadata": {},
     "output_type": "display_data"
    },
    {
     "data": {
      "application/vnd.jupyter.widget-view+json": {
       "model_id": "53200ae3c79040038bfec4617121e644",
       "version_major": 2,
       "version_minor": 0
      },
      "text/plain": [
       "  0%|          | 0/125 [00:00<?, ?it/s]"
      ]
     },
     "metadata": {},
     "output_type": "display_data"
    },
    {
     "data": {
      "application/vnd.jupyter.widget-view+json": {
       "model_id": "a94edbd9fc614a7b8bfe99f80c03eb06",
       "version_major": 2,
       "version_minor": 0
      },
      "text/plain": [
       "  0%|          | 0/820 [00:00<?, ?it/s]"
      ]
     },
     "metadata": {},
     "output_type": "display_data"
    },
    {
     "data": {
      "application/vnd.jupyter.widget-view+json": {
       "model_id": "b200f3abcbf843fcaf1fb1695ae48711",
       "version_major": 2,
       "version_minor": 0
      },
      "text/plain": [
       "  0%|          | 0/820 [00:00<?, ?it/s]"
      ]
     },
     "metadata": {},
     "output_type": "display_data"
    },
    {
     "data": {
      "application/vnd.jupyter.widget-view+json": {
       "model_id": "524214a4a25a4c88bc5d5b1b09cad94e",
       "version_major": 2,
       "version_minor": 0
      },
      "text/plain": [
       "  0%|          | 0/820 [00:00<?, ?it/s]"
      ]
     },
     "metadata": {},
     "output_type": "display_data"
    }
   ],
   "source": [
    "\n",
    "data = {\n",
    "    'model': [],\n",
    "    'sampler': [],\n",
    "    'prop': [],\n",
    "    'MR': [],\n",
    "    'MRR': [],\n",
    "    'hits@1': [],\n",
    "    'hits@5': [],\n",
    "    'hits@10': []\n",
    "}\n",
    "\n",
    "unsupervised_model_directories = [f for f in os.listdir(TRAINED_MODELS_DIR) if f != 'supervised' and os.path.isdir(os.path.join(TRAINED_MODELS_DIR, f))]\n",
    "\n",
    "for prop in props_to_evaluate:\n",
    "    logger.info(str(prop))\n",
    "    test_entities = get_testing_entities(test_graph_static, prop)\n",
    "    for model_dir in unsupervised_model_directories:\n",
    "        logger.info(model_dir)\n",
    "        samplers_directories = [f for f in os.listdir(os.path.join(TRAINED_MODELS_DIR, model_dir)) if os.path.isdir(os.path.join(TRAINED_MODELS_DIR, model_dir, f))]\n",
    "        for sampler in samplers_directories:\n",
    "            logger.info(sampler)\n",
    "            path = os.path.join(TRAINED_MODELS_DIR, model_dir, sampler)\n",
    "            with open(os.path.join(path, 'model.pkl'), 'rb') as f:\n",
    "                model = torch.load(f, map_location=torch.device('cpu'))\n",
    "            ranks, misses, _all = test_unsupervised(model, test_entities, tf_train, train_graph_static)\n",
    "            data['model'].append(model_dir)\n",
    "            data['sampler'].append(sampler)\n",
    "            data['prop'].append(str(prop))\n",
    "            data['MR'].append(mr_score(ranks))\n",
    "            data['MRR'].append(mrr_score(ranks))\n",
    "            data['hits@1'].append(hits_at_n(ranks, 1))\n",
    "            data['hits@5'].append(hits_at_n(ranks, 5))\n",
    "            data['hits@10'].append(hits_at_n(ranks, 10))\n",
    "    logger.info(\"\\n\\n\")\n",
    "\n",
    "evaluation_unsupervised_df = pd.DataFrame(data)\n",
    "save_df(evaluation_unsupervised_df, 'evaluation_unsupervised')"
   ]
  },
  {
   "cell_type": "code",
   "execution_count": 72,
   "id": "844ecf06-2cc8-4c97-8632-bde41bcce5bc",
   "metadata": {},
   "outputs": [
    {
     "data": {
      "text/html": [
       "<div>\n",
       "<style scoped>\n",
       "    .dataframe tbody tr th:only-of-type {\n",
       "        vertical-align: middle;\n",
       "    }\n",
       "\n",
       "    .dataframe tbody tr th {\n",
       "        vertical-align: top;\n",
       "    }\n",
       "\n",
       "    .dataframe thead th {\n",
       "        text-align: right;\n",
       "    }\n",
       "</style>\n",
       "<table border=\"1\" class=\"dataframe\">\n",
       "  <thead>\n",
       "    <tr style=\"text-align: right;\">\n",
       "      <th></th>\n",
       "      <th>model</th>\n",
       "      <th>sampler</th>\n",
       "      <th>prop</th>\n",
       "      <th>MR</th>\n",
       "      <th>MRR</th>\n",
       "      <th>hits@1</th>\n",
       "      <th>hits@5</th>\n",
       "      <th>hits@10</th>\n",
       "    </tr>\n",
       "  </thead>\n",
       "  <tbody>\n",
       "    <tr>\n",
       "      <th>0</th>\n",
       "      <td>RotatE</td>\n",
       "      <td>EditHistoryNegativeSampler</td>\n",
       "      <td>http://www.wikidata.org/prop/direct/P106</td>\n",
       "      <td>17554.500000</td>\n",
       "      <td>0.116244</td>\n",
       "      <td>0.071429</td>\n",
       "      <td>0.142857</td>\n",
       "      <td>0.142857</td>\n",
       "    </tr>\n",
       "    <tr>\n",
       "      <th>1</th>\n",
       "      <td>RotatE</td>\n",
       "      <td>InverseEditHistoryNegativeSampler</td>\n",
       "      <td>http://www.wikidata.org/prop/direct/P106</td>\n",
       "      <td>23370.035714</td>\n",
       "      <td>0.127579</td>\n",
       "      <td>0.071429</td>\n",
       "      <td>0.178571</td>\n",
       "      <td>0.178571</td>\n",
       "    </tr>\n",
       "    <tr>\n",
       "      <th>2</th>\n",
       "      <td>RotatE</td>\n",
       "      <td>EditHistoryNegativeSampler (no edit wars)</td>\n",
       "      <td>http://www.wikidata.org/prop/direct/P106</td>\n",
       "      <td>25222.464286</td>\n",
       "      <td>0.122226</td>\n",
       "      <td>0.107143</td>\n",
       "      <td>0.142857</td>\n",
       "      <td>0.142857</td>\n",
       "    </tr>\n",
       "    <tr>\n",
       "      <th>3</th>\n",
       "      <td>RotatE</td>\n",
       "      <td>BasicNegativeSampler</td>\n",
       "      <td>http://www.wikidata.org/prop/direct/P106</td>\n",
       "      <td>24825.178571</td>\n",
       "      <td>0.118798</td>\n",
       "      <td>0.071429</td>\n",
       "      <td>0.142857</td>\n",
       "      <td>0.178571</td>\n",
       "    </tr>\n",
       "    <tr>\n",
       "      <th>4</th>\n",
       "      <td>TransE</td>\n",
       "      <td>EditHistoryNegativeSampler</td>\n",
       "      <td>http://www.wikidata.org/prop/direct/P106</td>\n",
       "      <td>7109.714286</td>\n",
       "      <td>0.097682</td>\n",
       "      <td>0.071429</td>\n",
       "      <td>0.107143</td>\n",
       "      <td>0.214286</td>\n",
       "    </tr>\n",
       "    <tr>\n",
       "      <th>5</th>\n",
       "      <td>TransE</td>\n",
       "      <td>InverseEditHistoryNegativeSampler</td>\n",
       "      <td>http://www.wikidata.org/prop/direct/P106</td>\n",
       "      <td>12258.500000</td>\n",
       "      <td>0.085655</td>\n",
       "      <td>0.000000</td>\n",
       "      <td>0.178571</td>\n",
       "      <td>0.250000</td>\n",
       "    </tr>\n",
       "    <tr>\n",
       "      <th>6</th>\n",
       "      <td>TransE</td>\n",
       "      <td>EditHistoryNegativeSampler (no edit wars)</td>\n",
       "      <td>http://www.wikidata.org/prop/direct/P106</td>\n",
       "      <td>10751.964286</td>\n",
       "      <td>0.128833</td>\n",
       "      <td>0.071429</td>\n",
       "      <td>0.178571</td>\n",
       "      <td>0.178571</td>\n",
       "    </tr>\n",
       "    <tr>\n",
       "      <th>7</th>\n",
       "      <td>TransE</td>\n",
       "      <td>BasicNegativeSampler</td>\n",
       "      <td>http://www.wikidata.org/prop/direct/P106</td>\n",
       "      <td>22702.321429</td>\n",
       "      <td>0.021345</td>\n",
       "      <td>0.000000</td>\n",
       "      <td>0.035714</td>\n",
       "      <td>0.035714</td>\n",
       "    </tr>\n",
       "    <tr>\n",
       "      <th>8</th>\n",
       "      <td>MuRE</td>\n",
       "      <td>EditHistoryNegativeSampler</td>\n",
       "      <td>http://www.wikidata.org/prop/direct/P106</td>\n",
       "      <td>14729.821429</td>\n",
       "      <td>0.054689</td>\n",
       "      <td>0.000000</td>\n",
       "      <td>0.071429</td>\n",
       "      <td>0.107143</td>\n",
       "    </tr>\n",
       "    <tr>\n",
       "      <th>9</th>\n",
       "      <td>MuRE</td>\n",
       "      <td>InverseEditHistoryNegativeSampler</td>\n",
       "      <td>http://www.wikidata.org/prop/direct/P106</td>\n",
       "      <td>10875.642857</td>\n",
       "      <td>0.132228</td>\n",
       "      <td>0.107143</td>\n",
       "      <td>0.107143</td>\n",
       "      <td>0.250000</td>\n",
       "    </tr>\n",
       "    <tr>\n",
       "      <th>10</th>\n",
       "      <td>MuRE</td>\n",
       "      <td>EditHistoryNegativeSampler (no edit wars)</td>\n",
       "      <td>http://www.wikidata.org/prop/direct/P106</td>\n",
       "      <td>9616.928571</td>\n",
       "      <td>0.044648</td>\n",
       "      <td>0.000000</td>\n",
       "      <td>0.071429</td>\n",
       "      <td>0.107143</td>\n",
       "    </tr>\n",
       "    <tr>\n",
       "      <th>11</th>\n",
       "      <td>MuRE</td>\n",
       "      <td>BasicNegativeSampler</td>\n",
       "      <td>http://www.wikidata.org/prop/direct/P106</td>\n",
       "      <td>13625.964286</td>\n",
       "      <td>0.044697</td>\n",
       "      <td>0.000000</td>\n",
       "      <td>0.071429</td>\n",
       "      <td>0.107143</td>\n",
       "    </tr>\n",
       "  </tbody>\n",
       "</table>\n",
       "</div>"
      ],
      "text/plain": [
       "     model                                    sampler  \\\n",
       "0   RotatE                 EditHistoryNegativeSampler   \n",
       "1   RotatE          InverseEditHistoryNegativeSampler   \n",
       "2   RotatE  EditHistoryNegativeSampler (no edit wars)   \n",
       "3   RotatE                       BasicNegativeSampler   \n",
       "4   TransE                 EditHistoryNegativeSampler   \n",
       "5   TransE          InverseEditHistoryNegativeSampler   \n",
       "6   TransE  EditHistoryNegativeSampler (no edit wars)   \n",
       "7   TransE                       BasicNegativeSampler   \n",
       "8     MuRE                 EditHistoryNegativeSampler   \n",
       "9     MuRE          InverseEditHistoryNegativeSampler   \n",
       "10    MuRE  EditHistoryNegativeSampler (no edit wars)   \n",
       "11    MuRE                       BasicNegativeSampler   \n",
       "\n",
       "                                        prop            MR       MRR  \\\n",
       "0   http://www.wikidata.org/prop/direct/P106  17554.500000  0.116244   \n",
       "1   http://www.wikidata.org/prop/direct/P106  23370.035714  0.127579   \n",
       "2   http://www.wikidata.org/prop/direct/P106  25222.464286  0.122226   \n",
       "3   http://www.wikidata.org/prop/direct/P106  24825.178571  0.118798   \n",
       "4   http://www.wikidata.org/prop/direct/P106   7109.714286  0.097682   \n",
       "5   http://www.wikidata.org/prop/direct/P106  12258.500000  0.085655   \n",
       "6   http://www.wikidata.org/prop/direct/P106  10751.964286  0.128833   \n",
       "7   http://www.wikidata.org/prop/direct/P106  22702.321429  0.021345   \n",
       "8   http://www.wikidata.org/prop/direct/P106  14729.821429  0.054689   \n",
       "9   http://www.wikidata.org/prop/direct/P106  10875.642857  0.132228   \n",
       "10  http://www.wikidata.org/prop/direct/P106   9616.928571  0.044648   \n",
       "11  http://www.wikidata.org/prop/direct/P106  13625.964286  0.044697   \n",
       "\n",
       "      hits@1    hits@5   hits@10  \n",
       "0   0.071429  0.142857  0.142857  \n",
       "1   0.071429  0.178571  0.178571  \n",
       "2   0.107143  0.142857  0.142857  \n",
       "3   0.071429  0.142857  0.178571  \n",
       "4   0.071429  0.107143  0.214286  \n",
       "5   0.000000  0.178571  0.250000  \n",
       "6   0.071429  0.178571  0.178571  \n",
       "7   0.000000  0.035714  0.035714  \n",
       "8   0.000000  0.071429  0.107143  \n",
       "9   0.107143  0.107143  0.250000  \n",
       "10  0.000000  0.071429  0.107143  \n",
       "11  0.000000  0.071429  0.107143  "
      ]
     },
     "execution_count": 72,
     "metadata": {},
     "output_type": "execute_result"
    }
   ],
   "source": [
    "evaluation_unsupervised_df = load_df('evaluation_unsupervised')\n",
    "evaluation_unsupervised_df.head(n=12)"
   ]
  },
  {
   "cell_type": "code",
   "execution_count": 73,
   "id": "66f34bbf-adb1-4ef0-ad92-6c6f6b94ff54",
   "metadata": {},
   "outputs": [],
   "source": [
    "evaluation_unsupervised_df.to_csv(os.path.join(OUTPUT_DIR, 'evaluation_unsupervised_2.csv'), sep=',', index=False)"
   ]
  },
  {
   "cell_type": "markdown",
   "id": "77b61d84-9973-4f30-836f-a58bc46fd7f0",
   "metadata": {},
   "source": [
    "### Supervised model"
   ]
  },
  {
   "cell_type": "code",
   "execution_count": 14,
   "id": "45dae1ad-597e-4af2-9d99-64a56e4e752c",
   "metadata": {},
   "outputs": [],
   "source": [
    "with open(os.path.join(TRAINED_MODELS_DIR, 'supervised', 'model.pkl'), 'rb') as f:\n",
    "    supervised_model = pickle.load(f)\n",
    "\n",
    "with open(os.path.join(TRAINED_MODELS_DIR, 'supervised', 'embeddings.pkl'), 'rb') as f: \n",
    "    entity_2_embeddings = pickle.load(f)"
   ]
  },
  {
   "cell_type": "code",
   "execution_count": null,
   "id": "eaae6b7f-6a68-40a1-9490-7b9d295f5caf",
   "metadata": {},
   "outputs": [
    {
     "data": {
      "application/vnd.jupyter.widget-view+json": {
       "model_id": "544e1fda87f949cb967356a6cd73cb57",
       "version_major": 2,
       "version_minor": 0
      },
      "text/plain": [
       "  0%|          | 0/4186 [00:00<?, ?it/s]"
      ]
     },
     "metadata": {},
     "output_type": "display_data"
    }
   ],
   "source": [
    "data = {\n",
    "    'prop': [],\n",
    "    'MR': [],\n",
    "    'MRR': [],\n",
    "    'hits@1': [],\n",
    "    'hits@5': [],\n",
    "    'hits@10': []\n",
    "}\n",
    "\n",
    "possible_entities = list(set([str(s) for s in train_graph_static.subjects(None, None) if isinstance(s, URIRef)] + \\\n",
    "                             [str(s) for s in train_graph_static.objects(None, None) if isinstance(s, URIRef)]))\n",
    "\n",
    "for prop in props_to_evaluate:\n",
    "    logger.info(str(prop))\n",
    "    entities_test = get_testing_entities(test_graph_static, prop)\n",
    "    ranks, misses, _all = test_supervised(supervised_model, entities_test, entity_2_embeddings, possible_entities)\n",
    "    if len(ranks) > 0:\n",
    "        data['prop'].append(str(prop))\n",
    "        data['MR'].append(mr_score(ranks))\n",
    "        data['MRR'].append(mrr_score(ranks))\n",
    "        data['hits@1'].append(hits_at_n(ranks, 1))\n",
    "        data['hits@5'].append(hits_at_n(ranks, 5))\n",
    "        data['hits@10'].append(hits_at_n(ranks, 10))\n",
    "    \n",
    "evaluation_supervised_df = pd.DataFrame(data)\n",
    "save_df(evaluation_supervised_df, 'evaluation_supervised')"
   ]
  },
  {
   "cell_type": "code",
   "execution_count": 31,
   "id": "ebbc6f49-5434-4758-b8df-df95e87e8666",
   "metadata": {},
   "outputs": [
    {
     "data": {
      "text/html": [
       "<div>\n",
       "<style scoped>\n",
       "    .dataframe tbody tr th:only-of-type {\n",
       "        vertical-align: middle;\n",
       "    }\n",
       "\n",
       "    .dataframe tbody tr th {\n",
       "        vertical-align: top;\n",
       "    }\n",
       "\n",
       "    .dataframe thead th {\n",
       "        text-align: right;\n",
       "    }\n",
       "</style>\n",
       "<table border=\"1\" class=\"dataframe\">\n",
       "  <thead>\n",
       "    <tr style=\"text-align: right;\">\n",
       "      <th></th>\n",
       "      <th>prop</th>\n",
       "      <th>MR</th>\n",
       "      <th>MRR</th>\n",
       "      <th>hits@1</th>\n",
       "      <th>hits@5</th>\n",
       "      <th>hits@10</th>\n",
       "    </tr>\n",
       "  </thead>\n",
       "  <tbody>\n",
       "    <tr>\n",
       "      <th>0</th>\n",
       "      <td>http://www.wikidata.org/prop/direct/P31</td>\n",
       "      <td>13923.703226</td>\n",
       "      <td>0.111846</td>\n",
       "      <td>0.045161</td>\n",
       "      <td>0.165591</td>\n",
       "      <td>0.247312</td>\n",
       "    </tr>\n",
       "  </tbody>\n",
       "</table>\n",
       "</div>"
      ],
      "text/plain": [
       "                                      prop            MR       MRR    hits@1  \\\n",
       "0  http://www.wikidata.org/prop/direct/P31  13923.703226  0.111846  0.045161   \n",
       "\n",
       "     hits@5   hits@10  \n",
       "0  0.165591  0.247312  "
      ]
     },
     "execution_count": 31,
     "metadata": {},
     "output_type": "execute_result"
    }
   ],
   "source": [
    "evaluation_supervised_df = load_df('evaluation_supervised')\n",
    "evaluation_supervised_df.head()"
   ]
  },
  {
   "cell_type": "code",
   "execution_count": 19,
   "id": "934cbf52-4447-4574-b258-b706a0f260c7",
   "metadata": {},
   "outputs": [],
   "source": [
    "evaluation_supervised_df.to_csv(os.path.join(OUTPUT_DIR, 'evaluation_supervised.csv'), sep=',', index=False)"
   ]
  },
  {
   "cell_type": "markdown",
   "id": "3ebd5d7d-52d2-47a0-9aaa-bde86cba2810",
   "metadata": {},
   "source": [
    "### SDType model"
   ]
  },
  {
   "cell_type": "code",
   "execution_count": 55,
   "id": "2ccbf136-1223-420e-b5ca-8474371c1811",
   "metadata": {},
   "outputs": [],
   "source": [
    "sdtype_graph = Graph().parse(os.path.join(TRAINED_MODELS_DIR, 'sdtype_final_output.ttl'), format='ttl')"
   ]
  },
  {
   "cell_type": "code",
   "execution_count": 69,
   "id": "77587e0c-c520-44a7-a255-2aed51f61f57",
   "metadata": {
    "collapsed": true,
    "jupyter": {
     "outputs_hidden": true
    },
    "tags": []
   },
   "outputs": [
    {
     "data": {
      "application/vnd.jupyter.widget-view+json": {
       "model_id": "ae8bc204394848cc830e496bb3256c79",
       "version_major": 2,
       "version_minor": 0
      },
      "text/plain": [
       "  0%|          | 0/4186 [00:00<?, ?it/s]"
      ]
     },
     "metadata": {},
     "output_type": "display_data"
    },
    {
     "name": "stdout",
     "output_type": "stream",
     "text": [
      "1105\n",
      "1158\n",
      "960\n",
      "380\n",
      "285\n",
      "1359\n",
      "1228\n",
      "1102\n",
      "1419\n",
      "1410\n",
      "1079\n",
      "1158\n",
      "1093\n",
      "1458\n",
      "1158\n",
      "1158\n",
      "1110\n",
      "1080\n",
      "1433\n",
      "1441\n",
      "1275\n",
      "1470\n",
      "1110\n",
      "1359\n",
      "1110\n",
      "1079\n",
      "981\n",
      "1470\n",
      "1091\n",
      "379\n",
      "1423\n",
      "1103\n",
      "1091\n",
      "1433\n",
      "1241\n",
      "1471\n",
      "1158\n",
      "275\n",
      "1158\n",
      "379\n",
      "1158\n",
      "1483\n",
      "1103\n",
      "1134\n",
      "1205\n",
      "1110\n",
      "647\n",
      "1465\n",
      "1417\n",
      "1158\n",
      "1205\n",
      "699\n",
      "1110\n",
      "1442\n",
      "1051\n",
      "285\n",
      "1064\n",
      "1448\n",
      "1080\n",
      "1157\n",
      "379\n",
      "956\n",
      "76\n",
      "1054\n",
      "1158\n",
      "1110\n",
      "1231\n",
      "1158\n",
      "304\n",
      "1079\n",
      "1336\n",
      "1110\n",
      "722\n",
      "1095\n",
      "1054\n",
      "1411\n",
      "205\n",
      "420\n",
      "1205\n",
      "1433\n",
      "1110\n",
      "1314\n",
      "1415\n",
      "1506\n",
      "1158\n",
      "1336\n",
      "1241\n",
      "353\n",
      "1433\n",
      "1110\n",
      "1458\n",
      "266\n",
      "204\n",
      "258\n",
      "1171\n",
      "1433\n",
      "1110\n",
      "1087\n",
      "1079\n"
     ]
    }
   ],
   "source": [
    "data = {\n",
    "    'MR': [],\n",
    "    'MRR': [],\n",
    "    'hits@1': [],\n",
    "    'hits@5': [],\n",
    "    'hits@10': []\n",
    "}\n",
    "\n",
    "entities_test = get_testing_entities(test_graph_static, wdt.P31)\n",
    "ranks, misses, _all = test_sdtype(sdtype_graph, entities_test, train_graph_static)\n",
    "data['MR'].append(mr_score(ranks))\n",
    "data['MRR'].append(mrr_score(ranks))\n",
    "data['hits@1'].append(hits_at_n(ranks, 1))\n",
    "data['hits@5'].append(hits_at_n(ranks, 5))\n",
    "data['hits@10'].append(hits_at_n(ranks, 10))\n",
    "\n",
    "evaluation_sdtype_df = pd.DataFrame(data)\n",
    "save_df(evaluation_sdtype_df, 'evaluation_sdtype')"
   ]
  },
  {
   "cell_type": "code",
   "execution_count": 65,
   "id": "3e25235a-9300-4d37-99ef-121dd56ee2b6",
   "metadata": {},
   "outputs": [
    {
     "data": {
      "text/html": [
       "<div>\n",
       "<style scoped>\n",
       "    .dataframe tbody tr th:only-of-type {\n",
       "        vertical-align: middle;\n",
       "    }\n",
       "\n",
       "    .dataframe tbody tr th {\n",
       "        vertical-align: top;\n",
       "    }\n",
       "\n",
       "    .dataframe thead th {\n",
       "        text-align: right;\n",
       "    }\n",
       "</style>\n",
       "<table border=\"1\" class=\"dataframe\">\n",
       "  <thead>\n",
       "    <tr style=\"text-align: right;\">\n",
       "      <th></th>\n",
       "      <th>MR</th>\n",
       "      <th>MRR</th>\n",
       "      <th>hits@1</th>\n",
       "      <th>hits@5</th>\n",
       "      <th>hits@10</th>\n",
       "    </tr>\n",
       "  </thead>\n",
       "  <tbody>\n",
       "    <tr>\n",
       "      <th>0</th>\n",
       "      <td>62.683266</td>\n",
       "      <td>0.303276</td>\n",
       "      <td>0.202142</td>\n",
       "      <td>0.401071</td>\n",
       "      <td>0.517537</td>\n",
       "    </tr>\n",
       "  </tbody>\n",
       "</table>\n",
       "</div>"
      ],
      "text/plain": [
       "          MR       MRR    hits@1    hits@5   hits@10\n",
       "0  62.683266  0.303276  0.202142  0.401071  0.517537"
      ]
     },
     "execution_count": 65,
     "metadata": {},
     "output_type": "execute_result"
    }
   ],
   "source": [
    "evaluation_sdtype_df = load_df('evaluation_sdtype')\n",
    "evaluation_sdtype_df.head()"
   ]
  },
  {
   "cell_type": "code",
   "execution_count": null,
   "id": "5c1a6a89-8adb-414d-a077-87157e6d922a",
   "metadata": {},
   "outputs": [],
   "source": []
  }
 ],
 "metadata": {
  "kernelspec": {
   "display_name": "Python 3 (ipykernel)",
   "language": "python",
   "name": "python3"
  },
  "language_info": {
   "codemirror_mode": {
    "name": "ipython",
    "version": 3
   },
   "file_extension": ".py",
   "mimetype": "text/x-python",
   "name": "python",
   "nbconvert_exporter": "python",
   "pygments_lexer": "ipython3",
   "version": "3.9.7"
  }
 },
 "nbformat": 4,
 "nbformat_minor": 5
}
