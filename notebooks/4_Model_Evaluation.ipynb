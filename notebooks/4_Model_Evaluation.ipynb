{
 "cells": [
  {
   "cell_type": "markdown",
   "id": "9d46ee87-7b0d-4461-9e7f-bad7a37e78d3",
   "metadata": {},
   "source": [
    "# 4.- Model evaluation"
   ]
  },
  {
   "cell_type": "markdown",
   "id": "64f53d6d-68c8-4e72-80fe-abae3d2034b7",
   "metadata": {},
   "source": [
    "## Notebook setup"
   ]
  },
  {
   "cell_type": "code",
   "execution_count": 1,
   "id": "c7b509f2-e01f-4be3-9388-103f32a7e1a5",
   "metadata": {},
   "outputs": [],
   "source": [
    "import os\n",
    "import pandas as pd\n",
    "import pickle\n",
    "\n",
    "from tqdm.auto import tqdm"
   ]
  },
  {
   "cell_type": "code",
   "execution_count": 2,
   "id": "1b776d1b-773f-470c-b2e1-31fe46d5a405",
   "metadata": {},
   "outputs": [],
   "source": [
    "from rdflib import Namespace, Graph, URIRef, Literal, BNode\n",
    "from rdflib.namespace import FOAF, RDF, RDFS\n",
    "\n",
    "geo = Namespace(\"http://www.opengis.net/ont/geosparql#\")\n",
    "uo = Namespace(\"https://purl.org/uniovi/wd-edit-history#\")\n",
    "wd = Namespace(\"http://www.wikidata.org/entity/\")\n",
    "wdt = Namespace(\"http://www.wikidata.org/prop/direct/\")\n",
    "wdno = Namespace(\"http://www.wikidata.org/prop/novalue/\")"
   ]
  },
  {
   "cell_type": "code",
   "execution_count": 16,
   "id": "b50a3636-05f5-4cbd-9cb3-9a9a1bc7dff7",
   "metadata": {},
   "outputs": [],
   "source": [
    "REFINEMENT_SYSTEMS_OUTPUT_DIR = os.path.join('output', '3_edit_history_systems')\n",
    "TRAINED_MODELS_DIR = os.path.join('output', '3_edit_history_systems', 'models')\n",
    "OUTPUT_DIR = os.path.join('output', '4_model_evaluation')\n",
    "\n",
    "RANDOM_SEED = 42\n",
    "\n",
    "WIKIDATA_BASE = \"https://www.wikidata.org/w/api.php\"\n",
    "\n",
    "unsupervised_model_directories = [f for f in os.listdir(TRAINED_MODELS_DIR) if f != 'supervised' and os.path.isdir(os.path.join(TRAINED_MODELS_DIR, f))]"
   ]
  },
  {
   "cell_type": "code",
   "execution_count": 4,
   "id": "1193f259-d468-4960-bece-93136a214d41",
   "metadata": {},
   "outputs": [],
   "source": [
    "import logging\n",
    "\n",
    "log_format = \"%(levelname)s %(asctime)s - %(message)s\"\n",
    "logging.basicConfig(filename = \"evaluation_logs.log\",\n",
    "                    filemode = \"w\",\n",
    "                    format = log_format, \n",
    "                    level = logging.INFO)\n",
    "logger = logging.getLogger()"
   ]
  },
  {
   "cell_type": "code",
   "execution_count": 5,
   "id": "15b536df-b2b2-4065-b266-3352c7eacf59",
   "metadata": {},
   "outputs": [],
   "source": [
    "def load_df(filename):\n",
    "    with open(os.path.join(OUTPUT_DIR, f\"{filename}.pkl\"), 'rb') as f:\n",
    "        return pickle.load(f)\n",
    "\n",
    "def save_df(df, filename):\n",
    "    with open(os.path.join(OUTPUT_DIR, f\"{filename}.pkl\"), 'wb') as f:\n",
    "        pickle.dump(df, f)"
   ]
  },
  {
   "cell_type": "code",
   "execution_count": 6,
   "id": "6bc4dc34-ec7b-454d-8c71-f7169705b4a2",
   "metadata": {},
   "outputs": [],
   "source": [
    "train_graph_static = Graph().parse(os.path.join(REFINEMENT_SYSTEMS_OUTPUT_DIR, 'complete_train_graph_static.ttl'), format='ttl')\n",
    "test_graph_static = Graph().parse(os.path.join(REFINEMENT_SYSTEMS_OUTPUT_DIR, 'test_graph_sample_static.ttl'), format='ttl')"
   ]
  },
  {
   "cell_type": "code",
   "execution_count": 7,
   "id": "15ee262a-0276-4e30-96b6-18a90649293d",
   "metadata": {},
   "outputs": [],
   "source": [
    "import pdb\n",
    "import numpy as np\n",
    "import torch\n",
    "\n",
    "from pykeen.triples import TriplesFactory\n",
    "\n",
    "known_entities = set()\n",
    "known_relations = set()\n",
    "\n",
    "def entity_hashed_id(entity_uri):\n",
    "    return hash(entity_uri.split('/')[-1])\n",
    "\n",
    "def build_triples_factory_train(graph):\n",
    "    triples = []\n",
    "    for t in graph:\n",
    "        if not t[2].startswith(str(wdt)) and not t[2].startswith(str(wd)):\n",
    "            continue\n",
    "            \n",
    "        triple_str = [str(t[0]), str(t[1]), str(t[2])]\n",
    "        if triple_str[0] not in known_entities:\n",
    "            known_entities.add(triple_str[0])\n",
    "        \n",
    "        if triple_str[1] not in known_relations:\n",
    "            known_relations.add(triple_str[1])\n",
    "        \n",
    "        if triple_str[2] not in known_entities:\n",
    "            known_entities.add(triple_str[2])\n",
    "\n",
    "        triples.append(triple_str)\n",
    "    return TriplesFactory.from_labeled_triples(np.array(triples))\n",
    "\n",
    "def build_triples_factory_test(graph, train_tf):\n",
    "    triples = []\n",
    "    for t in graph:\n",
    "        if not t[2].startswith(str(wdt)) and not t[2].startswith(str(wd)):\n",
    "            continue\n",
    "        \n",
    "        triple_str = [str(t[0]), str(t[1]), str(t[2])]\n",
    "        if triple_str[0] not in known_entities or triple_str[1] not in known_relations or triple_str[2] not in known_entities:\n",
    "            continue\n",
    "        triples.append(triple_str)\n",
    "\n",
    "    return TriplesFactory.from_labeled_triples(np.array(triples), entity_to_id=train_tf.entity_to_id, relation_to_id=train_tf.relation_to_id)\n",
    "\n",
    "tf_train = build_triples_factory_train(train_graph_static)\n",
    "tf_test = build_triples_factory_test(test_graph_static, tf_train)"
   ]
  },
  {
   "cell_type": "markdown",
   "id": "1c9b37ca-997c-43eb-a0af-1525df7cf3f0",
   "metadata": {},
   "source": [
    "## Defining the evaluation metrics"
   ]
  },
  {
   "cell_type": "code",
   "execution_count": 8,
   "id": "65558ed6-6e58-4d23-8bf4-b126c493940a",
   "metadata": {},
   "outputs": [],
   "source": [
    "def hits_at_n(ranks, n):\n",
    "    return sum([1 if r <= n else 0 for r in ranks]) / len(ranks)\n",
    "\n",
    "def mr_score(ranks):\n",
    "    mr_score = 0\n",
    "    for r in ranks:\n",
    "        mr_score += r\n",
    "    return mr_score / len(ranks)\n",
    "\n",
    "def mrr_score(ranks):\n",
    "    mr_score = 0\n",
    "    for r in ranks:\n",
    "        mr_score += 1 / r\n",
    "    return mr_score / len(ranks)"
   ]
  },
  {
   "cell_type": "markdown",
   "id": "145a262f-4331-4536-84fb-5aef5daaad0f",
   "metadata": {},
   "source": [
    "## Testing functions"
   ]
  },
  {
   "cell_type": "code",
   "execution_count": 9,
   "id": "c3bb659d-4020-49bf-bc0e-03535324a9c8",
   "metadata": {},
   "outputs": [],
   "source": [
    "import pdb\n",
    "\n",
    "def get_testing_entities(test_graph_static, prop = None):\n",
    "    # get all entities that have a new P31 value in the test data\n",
    "    entities_test = set()\n",
    "    for t in test_graph_static.triples((None, prop, None)):\n",
    "        entities_test.add((str(t[0]), str(t[1]), str(t[2])))\n",
    "    return entities_test"
   ]
  },
  {
   "cell_type": "code",
   "execution_count": 10,
   "id": "4ab954c3-2f1e-441b-a04b-80477aa70a5e",
   "metadata": {},
   "outputs": [],
   "source": [
    "def test_supervised(model, entities_test, entity_2_embeddings, all_classes):\n",
    "    ranks = []\n",
    "    misses = 0\n",
    "    _all = 0\n",
    "    \n",
    "    # generic model useful for any property, embeddings = subj + prop + obj\n",
    "    embedding_size = len(list(entity_2_embeddings.values())[0])\n",
    "    X = np.zeros((len(all_classes), embedding_size * 3))\n",
    "    for i, kg_class in enumerate(all_classes):\n",
    "        X[i, 2*embedding_size:] = entity_2_embeddings[kg_class]\n",
    "        \n",
    "    \n",
    "    for entity, prop, true_class in tqdm(entities_test):\n",
    "        _all += 1\n",
    "\n",
    "        X[:, :embedding_size] = entity_2_embeddings[entity]\n",
    "        X[:, embedding_size:2*embedding_size] = entity_2_embeddings[prop]\n",
    "\n",
    "        pred = model.predict_proba(X)\n",
    "        entity_results = [(kg_class, pred[idx][1]) for idx, kg_class in enumerate(all_classes)]\n",
    "        entity_results.sort(key=lambda item: item[1], reverse=True)\n",
    "        sorted_predictions = [e[0] for e in entity_results]\n",
    "        if true_class not in sorted_predictions:\n",
    "            misses += 1\n",
    "            continue\n",
    "        idx = sorted_predictions.index(true_class)\n",
    "        ranks.append(idx + 1)\n",
    "    return ranks, misses, _all"
   ]
  },
  {
   "cell_type": "code",
   "execution_count": 11,
   "id": "e3459047-af3b-4aef-9a3a-2809a6a8b928",
   "metadata": {},
   "outputs": [],
   "source": [
    "from pykeen.models import predict\n",
    "\n",
    "def test_unsupervised(model, entities_test, triples_factory, train_graph_static):\n",
    "    ranks = []\n",
    "    misses = 0\n",
    "    _all = 0\n",
    "    for entity, prop, true_class in tqdm(entities_test):\n",
    "        _all += 1\n",
    "        if entity not in triples_factory.entity_to_id or prop not in triples_factory.relation_to_id:\n",
    "            misses += 1\n",
    "            continue\n",
    "        \n",
    "        pred_df = predict.get_tail_prediction_df(model, entity, str(prop), triples_factory=triples_factory, add_novelties=False)\n",
    "        pred_rank = 1\n",
    "        for row in pred_df.itertuples():\n",
    "            if row[2] == true_class:\n",
    "                ranks.append(pred_rank)\n",
    "                break\n",
    "            else:\n",
    "                # manual filtering of known triples\n",
    "                if (URIRef(entity), URIRef(prop), URIRef(row[2])) not in train_graph_static:\n",
    "                    pred_rank += 1\n",
    "    return ranks, misses, _all"
   ]
  },
  {
   "cell_type": "markdown",
   "id": "ebf71ef3-8cee-4ce1-8777-5b1e3a306873",
   "metadata": {},
   "source": [
    "## Evaluating the models"
   ]
  },
  {
   "cell_type": "code",
   "execution_count": 13,
   "id": "c9910885-9b6d-42be-9c0e-17bdcdb09f3a",
   "metadata": {},
   "outputs": [],
   "source": [
    "props_to_evaluate = [wdt.P31,\n",
    "                     wdt.P106, wdt.P27, # human: occupation; country of citizenship\n",
    "                     wdt.P36, wdt.P30, wdt.P37, wdt.P131, # 'places': capital; continent; legislative body; official language; located in\n",
    "                     wdt.P57, wdt.P136 # literary work: director; genre; author\n",
    "                    ]"
   ]
  },
  {
   "cell_type": "code",
   "execution_count": 37,
   "id": "39861ea5-dfb2-4d4b-9250-5d6d53708663",
   "metadata": {},
   "outputs": [
    {
     "name": "stdout",
     "output_type": "stream",
     "text": [
      "http://www.wikidata.org/prop/direct/P31 - count=4186\n"
     ]
    }
   ],
   "source": [
    "for prop in props_to_evaluate:\n",
    "    count = len(list(test_graph_static.triples((None, prop, None))))\n",
    "    print(f\"{str(prop)} - count={count}\")"
   ]
  },
  {
   "cell_type": "markdown",
   "id": "0ce7a9f1-5147-4ccf-94f6-62475885645d",
   "metadata": {},
   "source": [
    "### Unsupervised models"
   ]
  },
  {
   "cell_type": "code",
   "execution_count": null,
   "id": "883ddcbd-defa-4320-8e10-d677e9c13283",
   "metadata": {
    "collapsed": true,
    "jupyter": {
     "outputs_hidden": true
    },
    "tags": []
   },
   "outputs": [
    {
     "data": {
      "application/vnd.jupyter.widget-view+json": {
       "model_id": "9412bffccaec45d3bb3d53d670e50fe2",
       "version_major": 2,
       "version_minor": 0
      },
      "text/plain": [
       "  0%|          | 0/32 [00:00<?, ?it/s]"
      ]
     },
     "metadata": {},
     "output_type": "display_data"
    },
    {
     "name": "stderr",
     "output_type": "stream",
     "text": [
      "/opt/conda/lib/python3.9/site-packages/pykeen/nn/representation.py:375: UserWarning: Directly use Embedding.shape instead of num_embeddings.\n",
      "  warnings.warn(f\"Directly use {self.__class__.__name__}.shape instead of num_embeddings.\")\n"
     ]
    },
    {
     "data": {
      "application/vnd.jupyter.widget-view+json": {
       "model_id": "7b3b419dc58f4164bc2673b35cfb55a4",
       "version_major": 2,
       "version_minor": 0
      },
      "text/plain": [
       "  0%|          | 0/32 [00:00<?, ?it/s]"
      ]
     },
     "metadata": {},
     "output_type": "display_data"
    },
    {
     "data": {
      "application/vnd.jupyter.widget-view+json": {
       "model_id": "770d7e8f23d74c61b29aee11d8abecff",
       "version_major": 2,
       "version_minor": 0
      },
      "text/plain": [
       "  0%|          | 0/32 [00:00<?, ?it/s]"
      ]
     },
     "metadata": {},
     "output_type": "display_data"
    },
    {
     "data": {
      "application/vnd.jupyter.widget-view+json": {
       "model_id": "49657e75f1dc4626b99c1a8fbfe17a57",
       "version_major": 2,
       "version_minor": 0
      },
      "text/plain": [
       "  0%|          | 0/32 [00:00<?, ?it/s]"
      ]
     },
     "metadata": {},
     "output_type": "display_data"
    },
    {
     "data": {
      "application/vnd.jupyter.widget-view+json": {
       "model_id": "94296e61e03c45bb9fe0565d130ac70b",
       "version_major": 2,
       "version_minor": 0
      },
      "text/plain": [
       "  0%|          | 0/32 [00:00<?, ?it/s]"
      ]
     },
     "metadata": {},
     "output_type": "display_data"
    },
    {
     "data": {
      "application/vnd.jupyter.widget-view+json": {
       "model_id": "ba55f918d0c04d3f82daca5701f73a06",
       "version_major": 2,
       "version_minor": 0
      },
      "text/plain": [
       "  0%|          | 0/32 [00:00<?, ?it/s]"
      ]
     },
     "metadata": {},
     "output_type": "display_data"
    },
    {
     "data": {
      "application/vnd.jupyter.widget-view+json": {
       "model_id": "6b2a6005fc514af7b1a1444e898a0be2",
       "version_major": 2,
       "version_minor": 0
      },
      "text/plain": [
       "  0%|          | 0/32 [00:00<?, ?it/s]"
      ]
     },
     "metadata": {},
     "output_type": "display_data"
    },
    {
     "data": {
      "application/vnd.jupyter.widget-view+json": {
       "model_id": "23c2e4e77ff0439ab97e8205ec0b5cec",
       "version_major": 2,
       "version_minor": 0
      },
      "text/plain": [
       "  0%|          | 0/32 [00:00<?, ?it/s]"
      ]
     },
     "metadata": {},
     "output_type": "display_data"
    },
    {
     "data": {
      "application/vnd.jupyter.widget-view+json": {
       "model_id": "dc475910e83b41dab2a0203bec9ad0ea",
       "version_major": 2,
       "version_minor": 0
      },
      "text/plain": [
       "  0%|          | 0/32 [00:00<?, ?it/s]"
      ]
     },
     "metadata": {},
     "output_type": "display_data"
    },
    {
     "data": {
      "application/vnd.jupyter.widget-view+json": {
       "model_id": "0866da0c060e41088e428f347f10fb62",
       "version_major": 2,
       "version_minor": 0
      },
      "text/plain": [
       "  0%|          | 0/32 [00:00<?, ?it/s]"
      ]
     },
     "metadata": {},
     "output_type": "display_data"
    },
    {
     "data": {
      "application/vnd.jupyter.widget-view+json": {
       "model_id": "af7fddbffe2a4e3fa0732e40fa9b9e6a",
       "version_major": 2,
       "version_minor": 0
      },
      "text/plain": [
       "  0%|          | 0/32 [00:00<?, ?it/s]"
      ]
     },
     "metadata": {},
     "output_type": "display_data"
    },
    {
     "data": {
      "application/vnd.jupyter.widget-view+json": {
       "model_id": "4bf6f6b8b40342b586470e66ca8d79cd",
       "version_major": 2,
       "version_minor": 0
      },
      "text/plain": [
       "  0%|          | 0/32 [00:00<?, ?it/s]"
      ]
     },
     "metadata": {},
     "output_type": "display_data"
    },
    {
     "data": {
      "application/vnd.jupyter.widget-view+json": {
       "model_id": "0932aa00d4d545569a4a69d068364907",
       "version_major": 2,
       "version_minor": 0
      },
      "text/plain": [
       "  0%|          | 0/29 [00:00<?, ?it/s]"
      ]
     },
     "metadata": {},
     "output_type": "display_data"
    },
    {
     "data": {
      "application/vnd.jupyter.widget-view+json": {
       "model_id": "00b4452d3bc342bead1f94dcbdc4e37c",
       "version_major": 2,
       "version_minor": 0
      },
      "text/plain": [
       "  0%|          | 0/29 [00:00<?, ?it/s]"
      ]
     },
     "metadata": {},
     "output_type": "display_data"
    },
    {
     "data": {
      "application/vnd.jupyter.widget-view+json": {
       "model_id": "4806bc74ae9e42458f30207304df1a70",
       "version_major": 2,
       "version_minor": 0
      },
      "text/plain": [
       "  0%|          | 0/29 [00:00<?, ?it/s]"
      ]
     },
     "metadata": {},
     "output_type": "display_data"
    },
    {
     "data": {
      "application/vnd.jupyter.widget-view+json": {
       "model_id": "856a5ac5b8b34129ad710d6a8ec3775d",
       "version_major": 2,
       "version_minor": 0
      },
      "text/plain": [
       "  0%|          | 0/29 [00:00<?, ?it/s]"
      ]
     },
     "metadata": {},
     "output_type": "display_data"
    },
    {
     "data": {
      "application/vnd.jupyter.widget-view+json": {
       "model_id": "7094cf754e224f348d1c5266b05ca950",
       "version_major": 2,
       "version_minor": 0
      },
      "text/plain": [
       "  0%|          | 0/29 [00:00<?, ?it/s]"
      ]
     },
     "metadata": {},
     "output_type": "display_data"
    },
    {
     "data": {
      "application/vnd.jupyter.widget-view+json": {
       "model_id": "73850215669a4df7bde9d0da22b091eb",
       "version_major": 2,
       "version_minor": 0
      },
      "text/plain": [
       "  0%|          | 0/29 [00:00<?, ?it/s]"
      ]
     },
     "metadata": {},
     "output_type": "display_data"
    },
    {
     "data": {
      "application/vnd.jupyter.widget-view+json": {
       "model_id": "d17f534f24f44c1994d30483c84ca564",
       "version_major": 2,
       "version_minor": 0
      },
      "text/plain": [
       "  0%|          | 0/29 [00:00<?, ?it/s]"
      ]
     },
     "metadata": {},
     "output_type": "display_data"
    },
    {
     "data": {
      "application/vnd.jupyter.widget-view+json": {
       "model_id": "a97a6b32fe1843f8a84deae3ea41254f",
       "version_major": 2,
       "version_minor": 0
      },
      "text/plain": [
       "  0%|          | 0/29 [00:00<?, ?it/s]"
      ]
     },
     "metadata": {},
     "output_type": "display_data"
    },
    {
     "data": {
      "application/vnd.jupyter.widget-view+json": {
       "model_id": "f1128fe76aaf453fa5c03c8bcc3cc898",
       "version_major": 2,
       "version_minor": 0
      },
      "text/plain": [
       "  0%|          | 0/29 [00:00<?, ?it/s]"
      ]
     },
     "metadata": {},
     "output_type": "display_data"
    },
    {
     "data": {
      "application/vnd.jupyter.widget-view+json": {
       "model_id": "10dc62e01d484fcf83cde95f456016f7",
       "version_major": 2,
       "version_minor": 0
      },
      "text/plain": [
       "  0%|          | 0/29 [00:00<?, ?it/s]"
      ]
     },
     "metadata": {},
     "output_type": "display_data"
    },
    {
     "data": {
      "application/vnd.jupyter.widget-view+json": {
       "model_id": "107a56f66fdb415f86eb257196320c60",
       "version_major": 2,
       "version_minor": 0
      },
      "text/plain": [
       "  0%|          | 0/29 [00:00<?, ?it/s]"
      ]
     },
     "metadata": {},
     "output_type": "display_data"
    },
    {
     "data": {
      "application/vnd.jupyter.widget-view+json": {
       "model_id": "6d87ebe4631b4f70bdfc28bbcbc100f7",
       "version_major": 2,
       "version_minor": 0
      },
      "text/plain": [
       "  0%|          | 0/29 [00:00<?, ?it/s]"
      ]
     },
     "metadata": {},
     "output_type": "display_data"
    },
    {
     "data": {
      "application/vnd.jupyter.widget-view+json": {
       "model_id": "d793b52f16f34427840266cbd8e93ffd",
       "version_major": 2,
       "version_minor": 0
      },
      "text/plain": [
       "  0%|          | 0/54 [00:00<?, ?it/s]"
      ]
     },
     "metadata": {},
     "output_type": "display_data"
    },
    {
     "data": {
      "application/vnd.jupyter.widget-view+json": {
       "model_id": "5bb78ba46ba94c7883b03b6ebd34fe3a",
       "version_major": 2,
       "version_minor": 0
      },
      "text/plain": [
       "  0%|          | 0/54 [00:00<?, ?it/s]"
      ]
     },
     "metadata": {},
     "output_type": "display_data"
    },
    {
     "data": {
      "application/vnd.jupyter.widget-view+json": {
       "model_id": "87350f0224414ef482577bfd336860a2",
       "version_major": 2,
       "version_minor": 0
      },
      "text/plain": [
       "  0%|          | 0/54 [00:00<?, ?it/s]"
      ]
     },
     "metadata": {},
     "output_type": "display_data"
    },
    {
     "data": {
      "application/vnd.jupyter.widget-view+json": {
       "model_id": "77635d4fcece4ab9a4861dab3849d1ca",
       "version_major": 2,
       "version_minor": 0
      },
      "text/plain": [
       "  0%|          | 0/54 [00:00<?, ?it/s]"
      ]
     },
     "metadata": {},
     "output_type": "display_data"
    },
    {
     "data": {
      "application/vnd.jupyter.widget-view+json": {
       "model_id": "9b71d17114b54105a99ac6a89f507b8c",
       "version_major": 2,
       "version_minor": 0
      },
      "text/plain": [
       "  0%|          | 0/54 [00:00<?, ?it/s]"
      ]
     },
     "metadata": {},
     "output_type": "display_data"
    },
    {
     "data": {
      "application/vnd.jupyter.widget-view+json": {
       "model_id": "fa494baf8c0b488e81ff071a369b7022",
       "version_major": 2,
       "version_minor": 0
      },
      "text/plain": [
       "  0%|          | 0/54 [00:00<?, ?it/s]"
      ]
     },
     "metadata": {},
     "output_type": "display_data"
    },
    {
     "data": {
      "application/vnd.jupyter.widget-view+json": {
       "model_id": "b87bdc7959644783b4d796a562f9ce17",
       "version_major": 2,
       "version_minor": 0
      },
      "text/plain": [
       "  0%|          | 0/54 [00:00<?, ?it/s]"
      ]
     },
     "metadata": {},
     "output_type": "display_data"
    },
    {
     "data": {
      "application/vnd.jupyter.widget-view+json": {
       "model_id": "6e9179eba86845aea664fafc67d51524",
       "version_major": 2,
       "version_minor": 0
      },
      "text/plain": [
       "  0%|          | 0/54 [00:00<?, ?it/s]"
      ]
     },
     "metadata": {},
     "output_type": "display_data"
    },
    {
     "data": {
      "application/vnd.jupyter.widget-view+json": {
       "model_id": "4eb326ae00f8451ab313b22ff3c01a67",
       "version_major": 2,
       "version_minor": 0
      },
      "text/plain": [
       "  0%|          | 0/54 [00:00<?, ?it/s]"
      ]
     },
     "metadata": {},
     "output_type": "display_data"
    },
    {
     "data": {
      "application/vnd.jupyter.widget-view+json": {
       "model_id": "64e0294047bd427797c32b038254829b",
       "version_major": 2,
       "version_minor": 0
      },
      "text/plain": [
       "  0%|          | 0/54 [00:00<?, ?it/s]"
      ]
     },
     "metadata": {},
     "output_type": "display_data"
    },
    {
     "data": {
      "application/vnd.jupyter.widget-view+json": {
       "model_id": "679ab19b7dc3408a90c9cd2386c91a4d",
       "version_major": 2,
       "version_minor": 0
      },
      "text/plain": [
       "  0%|          | 0/54 [00:00<?, ?it/s]"
      ]
     },
     "metadata": {},
     "output_type": "display_data"
    },
    {
     "data": {
      "application/vnd.jupyter.widget-view+json": {
       "model_id": "08af8bd2bceb48e2ba82d5d130126e08",
       "version_major": 2,
       "version_minor": 0
      },
      "text/plain": [
       "  0%|          | 0/54 [00:00<?, ?it/s]"
      ]
     },
     "metadata": {},
     "output_type": "display_data"
    },
    {
     "data": {
      "application/vnd.jupyter.widget-view+json": {
       "model_id": "82cf42f8a00245e0a8dc843d36cca6da",
       "version_major": 2,
       "version_minor": 0
      },
      "text/plain": [
       "  0%|          | 0/88 [00:00<?, ?it/s]"
      ]
     },
     "metadata": {},
     "output_type": "display_data"
    },
    {
     "data": {
      "application/vnd.jupyter.widget-view+json": {
       "model_id": "1aa036f883b24adbbcaa895ded830c74",
       "version_major": 2,
       "version_minor": 0
      },
      "text/plain": [
       "  0%|          | 0/88 [00:00<?, ?it/s]"
      ]
     },
     "metadata": {},
     "output_type": "display_data"
    },
    {
     "data": {
      "application/vnd.jupyter.widget-view+json": {
       "model_id": "d987498634bd400db515eb9fa206b280",
       "version_major": 2,
       "version_minor": 0
      },
      "text/plain": [
       "  0%|          | 0/88 [00:00<?, ?it/s]"
      ]
     },
     "metadata": {},
     "output_type": "display_data"
    },
    {
     "data": {
      "application/vnd.jupyter.widget-view+json": {
       "model_id": "647ba0dbb4fb4b5fac4817a433ec21c6",
       "version_major": 2,
       "version_minor": 0
      },
      "text/plain": [
       "  0%|          | 0/88 [00:00<?, ?it/s]"
      ]
     },
     "metadata": {},
     "output_type": "display_data"
    },
    {
     "data": {
      "application/vnd.jupyter.widget-view+json": {
       "model_id": "7dbe1981a52b401297d4df3df7e64e45",
       "version_major": 2,
       "version_minor": 0
      },
      "text/plain": [
       "  0%|          | 0/88 [00:00<?, ?it/s]"
      ]
     },
     "metadata": {},
     "output_type": "display_data"
    },
    {
     "data": {
      "application/vnd.jupyter.widget-view+json": {
       "model_id": "77bcc1fcecf34990b68d48e65a52d3a5",
       "version_major": 2,
       "version_minor": 0
      },
      "text/plain": [
       "  0%|          | 0/88 [00:00<?, ?it/s]"
      ]
     },
     "metadata": {},
     "output_type": "display_data"
    },
    {
     "data": {
      "application/vnd.jupyter.widget-view+json": {
       "model_id": "938ceae5d224495996b23dd213aa7951",
       "version_major": 2,
       "version_minor": 0
      },
      "text/plain": [
       "  0%|          | 0/88 [00:00<?, ?it/s]"
      ]
     },
     "metadata": {},
     "output_type": "display_data"
    },
    {
     "data": {
      "application/vnd.jupyter.widget-view+json": {
       "model_id": "53d299dd747a46249669ed2a1f025492",
       "version_major": 2,
       "version_minor": 0
      },
      "text/plain": [
       "  0%|          | 0/88 [00:00<?, ?it/s]"
      ]
     },
     "metadata": {},
     "output_type": "display_data"
    },
    {
     "data": {
      "application/vnd.jupyter.widget-view+json": {
       "model_id": "1f6baa8700ec495690e426e45bdaefdd",
       "version_major": 2,
       "version_minor": 0
      },
      "text/plain": [
       "  0%|          | 0/88 [00:00<?, ?it/s]"
      ]
     },
     "metadata": {},
     "output_type": "display_data"
    },
    {
     "data": {
      "application/vnd.jupyter.widget-view+json": {
       "model_id": "4b28c4771b8147e99f1ac4354e7a08a4",
       "version_major": 2,
       "version_minor": 0
      },
      "text/plain": [
       "  0%|          | 0/88 [00:00<?, ?it/s]"
      ]
     },
     "metadata": {},
     "output_type": "display_data"
    },
    {
     "data": {
      "application/vnd.jupyter.widget-view+json": {
       "model_id": "8e8544cc442f453db2e104e8fe611119",
       "version_major": 2,
       "version_minor": 0
      },
      "text/plain": [
       "  0%|          | 0/88 [00:00<?, ?it/s]"
      ]
     },
     "metadata": {},
     "output_type": "display_data"
    },
    {
     "data": {
      "application/vnd.jupyter.widget-view+json": {
       "model_id": "ef59f19211a146acbc32180e26c67275",
       "version_major": 2,
       "version_minor": 0
      },
      "text/plain": [
       "  0%|          | 0/88 [00:00<?, ?it/s]"
      ]
     },
     "metadata": {},
     "output_type": "display_data"
    },
    {
     "data": {
      "application/vnd.jupyter.widget-view+json": {
       "model_id": "1fc54fd444b44178bbe32c3ecb8cec8a",
       "version_major": 2,
       "version_minor": 0
      },
      "text/plain": [
       "  0%|          | 0/125 [00:00<?, ?it/s]"
      ]
     },
     "metadata": {},
     "output_type": "display_data"
    },
    {
     "data": {
      "application/vnd.jupyter.widget-view+json": {
       "model_id": "727cf0fef990439083258a9219722bf6",
       "version_major": 2,
       "version_minor": 0
      },
      "text/plain": [
       "  0%|          | 0/125 [00:00<?, ?it/s]"
      ]
     },
     "metadata": {},
     "output_type": "display_data"
    },
    {
     "data": {
      "application/vnd.jupyter.widget-view+json": {
       "model_id": "c1a3503e49bc4550a11af7e85fe88839",
       "version_major": 2,
       "version_minor": 0
      },
      "text/plain": [
       "  0%|          | 0/125 [00:00<?, ?it/s]"
      ]
     },
     "metadata": {},
     "output_type": "display_data"
    },
    {
     "data": {
      "application/vnd.jupyter.widget-view+json": {
       "model_id": "140806dd625648f685b08c1965436c62",
       "version_major": 2,
       "version_minor": 0
      },
      "text/plain": [
       "  0%|          | 0/125 [00:00<?, ?it/s]"
      ]
     },
     "metadata": {},
     "output_type": "display_data"
    },
    {
     "data": {
      "application/vnd.jupyter.widget-view+json": {
       "model_id": "30dd2e95c639460e81afcbf292674094",
       "version_major": 2,
       "version_minor": 0
      },
      "text/plain": [
       "  0%|          | 0/125 [00:00<?, ?it/s]"
      ]
     },
     "metadata": {},
     "output_type": "display_data"
    },
    {
     "data": {
      "application/vnd.jupyter.widget-view+json": {
       "model_id": "1bdcf21bfc5944a2b7b0b1de515ad35c",
       "version_major": 2,
       "version_minor": 0
      },
      "text/plain": [
       "  0%|          | 0/125 [00:00<?, ?it/s]"
      ]
     },
     "metadata": {},
     "output_type": "display_data"
    },
    {
     "data": {
      "application/vnd.jupyter.widget-view+json": {
       "model_id": "9ba5ba0e9c8a4431add891fbb7b63ad1",
       "version_major": 2,
       "version_minor": 0
      },
      "text/plain": [
       "  0%|          | 0/125 [00:00<?, ?it/s]"
      ]
     },
     "metadata": {},
     "output_type": "display_data"
    },
    {
     "data": {
      "application/vnd.jupyter.widget-view+json": {
       "model_id": "f302a2af673446a3b4c9c3d92ed7122d",
       "version_major": 2,
       "version_minor": 0
      },
      "text/plain": [
       "  0%|          | 0/125 [00:00<?, ?it/s]"
      ]
     },
     "metadata": {},
     "output_type": "display_data"
    },
    {
     "data": {
      "application/vnd.jupyter.widget-view+json": {
       "model_id": "8c7066d641484f678ea41e11950b7d53",
       "version_major": 2,
       "version_minor": 0
      },
      "text/plain": [
       "  0%|          | 0/125 [00:00<?, ?it/s]"
      ]
     },
     "metadata": {},
     "output_type": "display_data"
    },
    {
     "data": {
      "application/vnd.jupyter.widget-view+json": {
       "model_id": "0380189d395e4378aa50303de5317240",
       "version_major": 2,
       "version_minor": 0
      },
      "text/plain": [
       "  0%|          | 0/125 [00:00<?, ?it/s]"
      ]
     },
     "metadata": {},
     "output_type": "display_data"
    },
    {
     "data": {
      "application/vnd.jupyter.widget-view+json": {
       "model_id": "2f00eb0e3080483682c9036aa02817af",
       "version_major": 2,
       "version_minor": 0
      },
      "text/plain": [
       "  0%|          | 0/125 [00:00<?, ?it/s]"
      ]
     },
     "metadata": {},
     "output_type": "display_data"
    },
    {
     "data": {
      "application/vnd.jupyter.widget-view+json": {
       "model_id": "53200ae3c79040038bfec4617121e644",
       "version_major": 2,
       "version_minor": 0
      },
      "text/plain": [
       "  0%|          | 0/125 [00:00<?, ?it/s]"
      ]
     },
     "metadata": {},
     "output_type": "display_data"
    },
    {
     "data": {
      "application/vnd.jupyter.widget-view+json": {
       "model_id": "a94edbd9fc614a7b8bfe99f80c03eb06",
       "version_major": 2,
       "version_minor": 0
      },
      "text/plain": [
       "  0%|          | 0/820 [00:00<?, ?it/s]"
      ]
     },
     "metadata": {},
     "output_type": "display_data"
    },
    {
     "data": {
      "application/vnd.jupyter.widget-view+json": {
       "model_id": "b200f3abcbf843fcaf1fb1695ae48711",
       "version_major": 2,
       "version_minor": 0
      },
      "text/plain": [
       "  0%|          | 0/820 [00:00<?, ?it/s]"
      ]
     },
     "metadata": {},
     "output_type": "display_data"
    },
    {
     "data": {
      "application/vnd.jupyter.widget-view+json": {
       "model_id": "524214a4a25a4c88bc5d5b1b09cad94e",
       "version_major": 2,
       "version_minor": 0
      },
      "text/plain": [
       "  0%|          | 0/820 [00:00<?, ?it/s]"
      ]
     },
     "metadata": {},
     "output_type": "display_data"
    }
   ],
   "source": [
    "\n",
    "data = {\n",
    "    'model': [],\n",
    "    'sampler': [],\n",
    "    'prop': [],\n",
    "    'MR': [],\n",
    "    'MRR': [],\n",
    "    'hits@1': [],\n",
    "    'hits@5': [],\n",
    "    'hits@10': []\n",
    "}\n",
    "\n",
    "for prop in props_to_evaluate:\n",
    "    logger.info(str(prop))\n",
    "    test_entities = get_testing_entities(test_graph_static, prop)\n",
    "    for model_dir in unsupervised_model_directories:\n",
    "        logger.info(model_dir)\n",
    "        samplers_directories = [f for f in os.listdir(os.path.join(TRAINED_MODELS_DIR, model_dir)) if os.path.isdir(os.path.join(TRAINED_MODELS_DIR, model_dir, f))]\n",
    "        for sampler in samplers_directories:\n",
    "            logger.info(sampler)\n",
    "            path = os.path.join(TRAINED_MODELS_DIR, model_dir, sampler)\n",
    "            with open(os.path.join(path, 'model.pkl'), 'rb') as f:\n",
    "                model = torch.load(f, map_location=torch.device('cpu'))\n",
    "            ranks, misses, _all = test_unsupervised(model, test_entities, tf_train, train_graph_static)\n",
    "            data['model'].append(model_dir)\n",
    "            data['sampler'].append(sampler)\n",
    "            data['prop'].append(str(prop))\n",
    "            data['MR'].append(mr_score(ranks))\n",
    "            data['MRR'].append(mrr_score(ranks))\n",
    "            data['hits@1'].append(hits_at_n(ranks, 1))\n",
    "            data['hits@5'].append(hits_at_n(ranks, 5))\n",
    "            data['hits@10'].append(hits_at_n(ranks, 10))\n",
    "    logger.info(\"\\n\\n\")\n",
    "\n",
    "evaluation_unsupervised_df = pd.DataFrame(data)\n",
    "save_df(evaluation_unsupervised_df, 'evaluation_unsupervised')"
   ]
  },
  {
   "cell_type": "code",
   "execution_count": 72,
   "id": "844ecf06-2cc8-4c97-8632-bde41bcce5bc",
   "metadata": {},
   "outputs": [
    {
     "data": {
      "text/html": [
       "<div>\n",
       "<style scoped>\n",
       "    .dataframe tbody tr th:only-of-type {\n",
       "        vertical-align: middle;\n",
       "    }\n",
       "\n",
       "    .dataframe tbody tr th {\n",
       "        vertical-align: top;\n",
       "    }\n",
       "\n",
       "    .dataframe thead th {\n",
       "        text-align: right;\n",
       "    }\n",
       "</style>\n",
       "<table border=\"1\" class=\"dataframe\">\n",
       "  <thead>\n",
       "    <tr style=\"text-align: right;\">\n",
       "      <th></th>\n",
       "      <th>model</th>\n",
       "      <th>sampler</th>\n",
       "      <th>prop</th>\n",
       "      <th>MR</th>\n",
       "      <th>MRR</th>\n",
       "      <th>hits@1</th>\n",
       "      <th>hits@5</th>\n",
       "      <th>hits@10</th>\n",
       "    </tr>\n",
       "  </thead>\n",
       "  <tbody>\n",
       "    <tr>\n",
       "      <th>0</th>\n",
       "      <td>RotatE</td>\n",
       "      <td>EditHistoryNegativeSampler</td>\n",
       "      <td>http://www.wikidata.org/prop/direct/P106</td>\n",
       "      <td>17554.500000</td>\n",
       "      <td>0.116244</td>\n",
       "      <td>0.071429</td>\n",
       "      <td>0.142857</td>\n",
       "      <td>0.142857</td>\n",
       "    </tr>\n",
       "    <tr>\n",
       "      <th>1</th>\n",
       "      <td>RotatE</td>\n",
       "      <td>InverseEditHistoryNegativeSampler</td>\n",
       "      <td>http://www.wikidata.org/prop/direct/P106</td>\n",
       "      <td>23370.035714</td>\n",
       "      <td>0.127579</td>\n",
       "      <td>0.071429</td>\n",
       "      <td>0.178571</td>\n",
       "      <td>0.178571</td>\n",
       "    </tr>\n",
       "    <tr>\n",
       "      <th>2</th>\n",
       "      <td>RotatE</td>\n",
       "      <td>EditHistoryNegativeSampler (no edit wars)</td>\n",
       "      <td>http://www.wikidata.org/prop/direct/P106</td>\n",
       "      <td>25222.464286</td>\n",
       "      <td>0.122226</td>\n",
       "      <td>0.107143</td>\n",
       "      <td>0.142857</td>\n",
       "      <td>0.142857</td>\n",
       "    </tr>\n",
       "    <tr>\n",
       "      <th>3</th>\n",
       "      <td>RotatE</td>\n",
       "      <td>BasicNegativeSampler</td>\n",
       "      <td>http://www.wikidata.org/prop/direct/P106</td>\n",
       "      <td>24825.178571</td>\n",
       "      <td>0.118798</td>\n",
       "      <td>0.071429</td>\n",
       "      <td>0.142857</td>\n",
       "      <td>0.178571</td>\n",
       "    </tr>\n",
       "    <tr>\n",
       "      <th>4</th>\n",
       "      <td>TransE</td>\n",
       "      <td>EditHistoryNegativeSampler</td>\n",
       "      <td>http://www.wikidata.org/prop/direct/P106</td>\n",
       "      <td>7109.714286</td>\n",
       "      <td>0.097682</td>\n",
       "      <td>0.071429</td>\n",
       "      <td>0.107143</td>\n",
       "      <td>0.214286</td>\n",
       "    </tr>\n",
       "    <tr>\n",
       "      <th>5</th>\n",
       "      <td>TransE</td>\n",
       "      <td>InverseEditHistoryNegativeSampler</td>\n",
       "      <td>http://www.wikidata.org/prop/direct/P106</td>\n",
       "      <td>12258.500000</td>\n",
       "      <td>0.085655</td>\n",
       "      <td>0.000000</td>\n",
       "      <td>0.178571</td>\n",
       "      <td>0.250000</td>\n",
       "    </tr>\n",
       "    <tr>\n",
       "      <th>6</th>\n",
       "      <td>TransE</td>\n",
       "      <td>EditHistoryNegativeSampler (no edit wars)</td>\n",
       "      <td>http://www.wikidata.org/prop/direct/P106</td>\n",
       "      <td>10751.964286</td>\n",
       "      <td>0.128833</td>\n",
       "      <td>0.071429</td>\n",
       "      <td>0.178571</td>\n",
       "      <td>0.178571</td>\n",
       "    </tr>\n",
       "    <tr>\n",
       "      <th>7</th>\n",
       "      <td>TransE</td>\n",
       "      <td>BasicNegativeSampler</td>\n",
       "      <td>http://www.wikidata.org/prop/direct/P106</td>\n",
       "      <td>22702.321429</td>\n",
       "      <td>0.021345</td>\n",
       "      <td>0.000000</td>\n",
       "      <td>0.035714</td>\n",
       "      <td>0.035714</td>\n",
       "    </tr>\n",
       "    <tr>\n",
       "      <th>8</th>\n",
       "      <td>MuRE</td>\n",
       "      <td>EditHistoryNegativeSampler</td>\n",
       "      <td>http://www.wikidata.org/prop/direct/P106</td>\n",
       "      <td>14729.821429</td>\n",
       "      <td>0.054689</td>\n",
       "      <td>0.000000</td>\n",
       "      <td>0.071429</td>\n",
       "      <td>0.107143</td>\n",
       "    </tr>\n",
       "    <tr>\n",
       "      <th>9</th>\n",
       "      <td>MuRE</td>\n",
       "      <td>InverseEditHistoryNegativeSampler</td>\n",
       "      <td>http://www.wikidata.org/prop/direct/P106</td>\n",
       "      <td>10875.642857</td>\n",
       "      <td>0.132228</td>\n",
       "      <td>0.107143</td>\n",
       "      <td>0.107143</td>\n",
       "      <td>0.250000</td>\n",
       "    </tr>\n",
       "    <tr>\n",
       "      <th>10</th>\n",
       "      <td>MuRE</td>\n",
       "      <td>EditHistoryNegativeSampler (no edit wars)</td>\n",
       "      <td>http://www.wikidata.org/prop/direct/P106</td>\n",
       "      <td>9616.928571</td>\n",
       "      <td>0.044648</td>\n",
       "      <td>0.000000</td>\n",
       "      <td>0.071429</td>\n",
       "      <td>0.107143</td>\n",
       "    </tr>\n",
       "    <tr>\n",
       "      <th>11</th>\n",
       "      <td>MuRE</td>\n",
       "      <td>BasicNegativeSampler</td>\n",
       "      <td>http://www.wikidata.org/prop/direct/P106</td>\n",
       "      <td>13625.964286</td>\n",
       "      <td>0.044697</td>\n",
       "      <td>0.000000</td>\n",
       "      <td>0.071429</td>\n",
       "      <td>0.107143</td>\n",
       "    </tr>\n",
       "  </tbody>\n",
       "</table>\n",
       "</div>"
      ],
      "text/plain": [
       "     model                                    sampler  \\\n",
       "0   RotatE                 EditHistoryNegativeSampler   \n",
       "1   RotatE          InverseEditHistoryNegativeSampler   \n",
       "2   RotatE  EditHistoryNegativeSampler (no edit wars)   \n",
       "3   RotatE                       BasicNegativeSampler   \n",
       "4   TransE                 EditHistoryNegativeSampler   \n",
       "5   TransE          InverseEditHistoryNegativeSampler   \n",
       "6   TransE  EditHistoryNegativeSampler (no edit wars)   \n",
       "7   TransE                       BasicNegativeSampler   \n",
       "8     MuRE                 EditHistoryNegativeSampler   \n",
       "9     MuRE          InverseEditHistoryNegativeSampler   \n",
       "10    MuRE  EditHistoryNegativeSampler (no edit wars)   \n",
       "11    MuRE                       BasicNegativeSampler   \n",
       "\n",
       "                                        prop            MR       MRR  \\\n",
       "0   http://www.wikidata.org/prop/direct/P106  17554.500000  0.116244   \n",
       "1   http://www.wikidata.org/prop/direct/P106  23370.035714  0.127579   \n",
       "2   http://www.wikidata.org/prop/direct/P106  25222.464286  0.122226   \n",
       "3   http://www.wikidata.org/prop/direct/P106  24825.178571  0.118798   \n",
       "4   http://www.wikidata.org/prop/direct/P106   7109.714286  0.097682   \n",
       "5   http://www.wikidata.org/prop/direct/P106  12258.500000  0.085655   \n",
       "6   http://www.wikidata.org/prop/direct/P106  10751.964286  0.128833   \n",
       "7   http://www.wikidata.org/prop/direct/P106  22702.321429  0.021345   \n",
       "8   http://www.wikidata.org/prop/direct/P106  14729.821429  0.054689   \n",
       "9   http://www.wikidata.org/prop/direct/P106  10875.642857  0.132228   \n",
       "10  http://www.wikidata.org/prop/direct/P106   9616.928571  0.044648   \n",
       "11  http://www.wikidata.org/prop/direct/P106  13625.964286  0.044697   \n",
       "\n",
       "      hits@1    hits@5   hits@10  \n",
       "0   0.071429  0.142857  0.142857  \n",
       "1   0.071429  0.178571  0.178571  \n",
       "2   0.107143  0.142857  0.142857  \n",
       "3   0.071429  0.142857  0.178571  \n",
       "4   0.071429  0.107143  0.214286  \n",
       "5   0.000000  0.178571  0.250000  \n",
       "6   0.071429  0.178571  0.178571  \n",
       "7   0.000000  0.035714  0.035714  \n",
       "8   0.000000  0.071429  0.107143  \n",
       "9   0.107143  0.107143  0.250000  \n",
       "10  0.000000  0.071429  0.107143  \n",
       "11  0.000000  0.071429  0.107143  "
      ]
     },
     "execution_count": 72,
     "metadata": {},
     "output_type": "execute_result"
    }
   ],
   "source": [
    "evaluation_unsupervised_df = load_df('evaluation_unsupervised')\n",
    "evaluation_unsupervised_df.head(n=12)"
   ]
  },
  {
   "cell_type": "code",
   "execution_count": 73,
   "id": "66f34bbf-adb1-4ef0-ad92-6c6f6b94ff54",
   "metadata": {},
   "outputs": [],
   "source": [
    "evaluation_unsupervised_df.to_csv(os.path.join(OUTPUT_DIR, 'evaluation_unsupervised_2.csv'), sep=',', index=False)"
   ]
  },
  {
   "cell_type": "markdown",
   "id": "77b61d84-9973-4f30-836f-a58bc46fd7f0",
   "metadata": {},
   "source": [
    "### Supervised model"
   ]
  },
  {
   "cell_type": "code",
   "execution_count": 14,
   "id": "45dae1ad-597e-4af2-9d99-64a56e4e752c",
   "metadata": {},
   "outputs": [],
   "source": [
    "with open(os.path.join(TRAINED_MODELS_DIR, 'supervised', 'model.pkl'), 'rb') as f:\n",
    "    supervised_model = pickle.load(f)\n",
    "\n",
    "with open(os.path.join(TRAINED_MODELS_DIR, 'supervised', 'embeddings.pkl'), 'rb') as f: \n",
    "    entity_2_embeddings = pickle.load(f)"
   ]
  },
  {
   "cell_type": "code",
   "execution_count": null,
   "id": "eaae6b7f-6a68-40a1-9490-7b9d295f5caf",
   "metadata": {},
   "outputs": [
    {
     "data": {
      "application/vnd.jupyter.widget-view+json": {
       "model_id": "544e1fda87f949cb967356a6cd73cb57",
       "version_major": 2,
       "version_minor": 0
      },
      "text/plain": [
       "  0%|          | 0/4186 [00:00<?, ?it/s]"
      ]
     },
     "metadata": {},
     "output_type": "display_data"
    }
   ],
   "source": [
    "data = {\n",
    "    'prop': [],\n",
    "    'MR': [],\n",
    "    'MRR': [],\n",
    "    'hits@1': [],\n",
    "    'hits@5': [],\n",
    "    'hits@10': []\n",
    "}\n",
    "\n",
    "possible_entities = list(set([str(s) for s in train_graph_static.subjects(None, None) if isinstance(s, URIRef)] + \\\n",
    "                             [str(s) for s in train_graph_static.objects(None, None) if isinstance(s, URIRef)]))\n",
    "\n",
    "for prop in props_to_evaluate:\n",
    "    logger.info(str(prop))\n",
    "    entities_test = get_testing_entities(test_graph_static, prop)\n",
    "    ranks, misses, _all = test_supervised(supervised_model, entities_test, entity_2_embeddings, possible_entities)\n",
    "    if len(ranks) > 0:\n",
    "        data['prop'].append(str(prop))\n",
    "        data['MR'].append(mr_score(ranks))\n",
    "        data['MRR'].append(mrr_score(ranks))\n",
    "        data['hits@1'].append(hits_at_n(ranks, 1))\n",
    "        data['hits@5'].append(hits_at_n(ranks, 5))\n",
    "        data['hits@10'].append(hits_at_n(ranks, 10))\n",
    "    \n",
    "evaluation_supervised_df = pd.DataFrame(data)\n",
    "save_df(evaluation_supervised_df, 'evaluation_supervised')"
   ]
  },
  {
   "cell_type": "code",
   "execution_count": 31,
   "id": "ebbc6f49-5434-4758-b8df-df95e87e8666",
   "metadata": {},
   "outputs": [
    {
     "data": {
      "text/html": [
       "<div>\n",
       "<style scoped>\n",
       "    .dataframe tbody tr th:only-of-type {\n",
       "        vertical-align: middle;\n",
       "    }\n",
       "\n",
       "    .dataframe tbody tr th {\n",
       "        vertical-align: top;\n",
       "    }\n",
       "\n",
       "    .dataframe thead th {\n",
       "        text-align: right;\n",
       "    }\n",
       "</style>\n",
       "<table border=\"1\" class=\"dataframe\">\n",
       "  <thead>\n",
       "    <tr style=\"text-align: right;\">\n",
       "      <th></th>\n",
       "      <th>prop</th>\n",
       "      <th>MR</th>\n",
       "      <th>MRR</th>\n",
       "      <th>hits@1</th>\n",
       "      <th>hits@5</th>\n",
       "      <th>hits@10</th>\n",
       "    </tr>\n",
       "  </thead>\n",
       "  <tbody>\n",
       "    <tr>\n",
       "      <th>0</th>\n",
       "      <td>http://www.wikidata.org/prop/direct/P31</td>\n",
       "      <td>13923.703226</td>\n",
       "      <td>0.111846</td>\n",
       "      <td>0.045161</td>\n",
       "      <td>0.165591</td>\n",
       "      <td>0.247312</td>\n",
       "    </tr>\n",
       "  </tbody>\n",
       "</table>\n",
       "</div>"
      ],
      "text/plain": [
       "                                      prop            MR       MRR    hits@1  \\\n",
       "0  http://www.wikidata.org/prop/direct/P31  13923.703226  0.111846  0.045161   \n",
       "\n",
       "     hits@5   hits@10  \n",
       "0  0.165591  0.247312  "
      ]
     },
     "execution_count": 31,
     "metadata": {},
     "output_type": "execute_result"
    }
   ],
   "source": [
    "evaluation_supervised_df = load_df('evaluation_supervised')\n",
    "evaluation_supervised_df.head()"
   ]
  },
  {
   "cell_type": "code",
   "execution_count": 19,
   "id": "934cbf52-4447-4574-b258-b706a0f260c7",
   "metadata": {},
   "outputs": [],
   "source": [
    "evaluation_supervised_df.to_csv(os.path.join(OUTPUT_DIR, 'evaluation_supervised.csv'), sep=',', index=False)"
   ]
  },
  {
   "cell_type": "markdown",
   "id": "de728a02-fa41-494f-a815-eb33a92a821e",
   "metadata": {},
   "source": [
    "## Statistical tests"
   ]
  },
  {
   "cell_type": "code",
   "execution_count": null,
   "id": "cb952aa0-63f4-4ca1-bb2d-f6307b537c9a",
   "metadata": {},
   "outputs": [
    {
     "data": {
      "application/vnd.jupyter.widget-view+json": {
       "model_id": "89bf3b0e7bf7480cb4dc5f31951ca10e",
       "version_major": 2,
       "version_minor": 0
      },
      "text/plain": [
       "  0%|          | 0/4186 [00:00<?, ?it/s]"
      ]
     },
     "metadata": {},
     "output_type": "display_data"
    }
   ],
   "source": [
    "prop = wdt.P31\n",
    "test_entities = get_testing_entities(test_graph_static, prop)\n",
    "\n",
    "individual_hits_at_1_dict = {}\n",
    "\n",
    "for model_dir in unsupervised_model_directories:\n",
    "    logger.info(model_dir)\n",
    "    samplers_directories = [f for f in os.listdir(os.path.join(TRAINED_MODELS_DIR, model_dir)) if os.path.isdir(os.path.join(TRAINED_MODELS_DIR, model_dir, f))]\n",
    "    for sampler in samplers_directories:\n",
    "        logger.info(sampler)\n",
    "        path = os.path.join(TRAINED_MODELS_DIR, model_dir, sampler)\n",
    "        with open(os.path.join(path, 'model.pkl'), 'rb') as f:\n",
    "            model = torch.load(f, map_location=torch.device('cpu'))\n",
    "        ranks, misses, _all = test_unsupervised(model, test_entities, tf_train, train_graph_static)\n",
    "        individual_hits_at_1_dict[(model_dir, sampler)] = [1 if r <= 1 else 0 for r in ranks]\n",
    "    logger.info(\"\\n\\n\")"
   ]
  },
  {
   "cell_type": "code",
   "execution_count": 72,
   "id": "b682ef0d-cc9b-457f-b386-1b2e1462bc68",
   "metadata": {},
   "outputs": [],
   "source": [
    "save_df(individual_hits_at_1_dict, 'individual_hits_at_1')"
   ]
  },
  {
   "cell_type": "code",
   "execution_count": null,
   "id": "a84e641f-ac9d-4ddf-974b-b451ac5b7892",
   "metadata": {},
   "outputs": [],
   "source": [
    "individual_hits_at_1_dict = load_df('individual_hits_at_1')"
   ]
  },
  {
   "cell_type": "code",
   "execution_count": 73,
   "id": "d93853dd-cf3f-4e91-be40-1c0ae6961660",
   "metadata": {},
   "outputs": [
    {
     "data": {
      "text/plain": [
       "{('RotatE', 'EditHistoryNegativeSampler'): 0.10866141732283464,\n",
       " ('RotatE', 'InverseEditHistoryNegativeSampler'): 0.16272965879265092,\n",
       " ('RotatE', 'EditHistoryNegativeSampler (no edit wars)'): 0.14566929133858267,\n",
       " ('RotatE', 'BasicNegativeSampler'): 0.08582677165354331,\n",
       " ('TransE', 'EditHistoryNegativeSampler'): 0.015223097112860892,\n",
       " ('TransE', 'InverseEditHistoryNegativeSampler'): 0.01994750656167979,\n",
       " ('TransE', 'EditHistoryNegativeSampler (no edit wars)'): 0.027559055118110236,\n",
       " ('TransE', 'BasicNegativeSampler'): 0.050131233595800524,\n",
       " ('MuRE', 'EditHistoryNegativeSampler'): 0.01837270341207349,\n",
       " ('MuRE', 'InverseEditHistoryNegativeSampler'): 0.14409448818897638,\n",
       " ('MuRE', 'EditHistoryNegativeSampler (no edit wars)'): 0.030971128608923884,\n",
       " ('MuRE', 'BasicNegativeSampler'): 0.1152230971128609}"
      ]
     },
     "execution_count": 73,
     "metadata": {},
     "output_type": "execute_result"
    }
   ],
   "source": [
    "{k: sum(v) / len(v) for k, v in individual_hits_at_1_dict.items()}"
   ]
  },
  {
   "cell_type": "code",
   "execution_count": 74,
   "id": "f2a1e3a1-b838-466f-91be-dbfe4e1fd630",
   "metadata": {},
   "outputs": [],
   "source": [
    "from statsmodels.stats.contingency_tables import mcnemar\n",
    "\n",
    "def build_contingency_table(model_a, model_b, individual_hits_at_1_dict):\n",
    "    individual_hits_at_1_model_a = individual_hits_at_1_dict[model_a]\n",
    "    individual_hits_at_1_model_b = individual_hits_at_1_dict[model_b]\n",
    "    contingency_table = np.zeros((2, 2))\n",
    "    for i in range(len(individual_hits_at_1_model_a)):\n",
    "        res_a = individual_hits_at_1_model_a[i]\n",
    "        res_b = individual_hits_at_1_model_b[i]\n",
    "        if res_a == 0 and res_b == 0:\n",
    "            # both misses\n",
    "            contingency_table[1, 1] += 1\n",
    "        elif res_a == 0 and res_b == 1:\n",
    "            # model a miss, model b hit\n",
    "            contingency_table[1, 0] += 1\n",
    "        elif res_a == 1 and res_b == 0:\n",
    "            # model a hit, model b miss\n",
    "            contingency_table[0, 1] += 1\n",
    "        else:\n",
    "            # both hits\n",
    "            contingency_table[0, 0] += 1\n",
    "    return contingency_table\n",
    "\n",
    "def perform_mcnemar_test(model_a, model_b, individual_hits_at_1_dict, print_results=True):\n",
    "    contingency_table = build_contingency_table(model_a, model_b, individual_hits_at_1_dict)\n",
    "    result = mcnemar(contingency_table, exact=False, correction=True)\n",
    "    \n",
    "    if print_results:\n",
    "        print(f\"Comparing results of model '{model_a}' and model '{model_b}'\")\n",
    "        print(f\"McNemar results: statistic={result.statistic}, p-value={result.pvalue}\")\n",
    "\n",
    "        # interpret the p-value\n",
    "        alpha = 0.05\n",
    "        if result.pvalue > alpha:\n",
    "            print('Same proportions of errors (fail to reject H0)')\n",
    "        else:\n",
    "            print('Different proportions of errors (reject H0)')\n",
    "    return result"
   ]
  },
  {
   "cell_type": "code",
   "execution_count": 82,
   "id": "19868e8f-8527-42cc-8600-f34c1ea59308",
   "metadata": {},
   "outputs": [
    {
     "name": "stdout",
     "output_type": "stream",
     "text": [
      "Comparing results of model '('RotatE', 'EditHistoryNegativeSampler (no edit wars)')' and model '('RotatE', 'InverseEditHistoryNegativeSampler')'\n",
      "McNemar results: statistic=6.014684287812041, p-value=0.01418731647290691\n",
      "Different proportions of errors (reject H0)\n"
     ]
    },
    {
     "data": {
      "text/plain": [
       "<bunch containing results, print to see contents>"
      ]
     },
     "execution_count": 82,
     "metadata": {},
     "output_type": "execute_result"
    }
   ],
   "source": [
    "perform_mcnemar_test(('RotatE', 'EditHistoryNegativeSampler (no edit wars)'), ('RotatE', 'InverseEditHistoryNegativeSampler'), individual_hits_at_1_dict)"
   ]
  },
  {
   "cell_type": "code",
   "execution_count": 92,
   "id": "d46c4506-9da3-4884-9d37-3d9bad3fa4d7",
   "metadata": {},
   "outputs": [
    {
     "name": "stdout",
     "output_type": "stream",
     "text": [
      "Comparing results of model '('TransE', 'EditHistoryNegativeSampler (no edit wars)')' and model '('TransE', 'InverseEditHistoryNegativeSampler')'\n",
      "McNemar results: statistic=5.807407407407408, p-value=0.015958804665394306\n",
      "Different proportions of errors (reject H0)\n"
     ]
    },
    {
     "data": {
      "text/plain": [
       "<bunch containing results, print to see contents>"
      ]
     },
     "execution_count": 92,
     "metadata": {},
     "output_type": "execute_result"
    }
   ],
   "source": [
    "perform_mcnemar_test(('TransE', 'EditHistoryNegativeSampler (no edit wars)'), ('TransE', 'InverseEditHistoryNegativeSampler'), individual_hits_at_1_dict)"
   ]
  },
  {
   "cell_type": "code",
   "execution_count": 98,
   "id": "ea76e63a-5d4d-456d-abb5-3a25a9d2460b",
   "metadata": {},
   "outputs": [
    {
     "name": "stdout",
     "output_type": "stream",
     "text": [
      "Comparing results of model '('MuRE', 'InverseEditHistoryNegativeSampler')' and model '('MuRE', 'EditHistoryNegativeSampler (no edit wars)')'\n",
      "McNemar results: statistic=307.6539101497504, p-value=7.084525092425133e-69\n",
      "Different proportions of errors (reject H0)\n"
     ]
    },
    {
     "data": {
      "text/plain": [
       "<bunch containing results, print to see contents>"
      ]
     },
     "execution_count": 98,
     "metadata": {},
     "output_type": "execute_result"
    }
   ],
   "source": [
    "perform_mcnemar_test(('MuRE', 'InverseEditHistoryNegativeSampler'), ('MuRE', 'EditHistoryNegativeSampler (no edit wars)'), individual_hits_at_1_dict)"
   ]
  },
  {
   "cell_type": "code",
   "execution_count": 64,
   "id": "f8ec9729-bb03-448e-b772-878a1725bcfc",
   "metadata": {},
   "outputs": [
    {
     "data": {
      "text/plain": [
       "array([[ 178.,  442.],\n",
       "       [ 149., 3041.]])"
      ]
     },
     "execution_count": 64,
     "metadata": {},
     "output_type": "execute_result"
    }
   ],
   "source": [
    "build_contingency_table(('RotatE', 'InverseEditHistoryNegativeSampler'), ('RotatE', 'BasicNegativeSampler'), individual_hits_at_1_dict)"
   ]
  },
  {
   "cell_type": "code",
   "execution_count": null,
   "id": "aa216b27-a926-40f1-aa77-cde0db7987e4",
   "metadata": {},
   "outputs": [],
   "source": []
  }
 ],
 "metadata": {
  "kernelspec": {
   "display_name": "Python 3 (ipykernel)",
   "language": "python",
   "name": "python3"
  },
  "language_info": {
   "codemirror_mode": {
    "name": "ipython",
    "version": 3
   },
   "file_extension": ".py",
   "mimetype": "text/x-python",
   "name": "python",
   "nbconvert_exporter": "python",
   "pygments_lexer": "ipython3",
   "version": "3.9.7"
  }
 },
 "nbformat": 4,
 "nbformat_minor": 5
}
