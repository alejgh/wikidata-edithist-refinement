{
 "cells": [
  {
   "cell_type": "code",
   "execution_count": 2,
   "id": "d91c6d79-d3dc-447c-a11a-18c46ca5eff7",
   "metadata": {},
   "outputs": [
    {
     "name": "stdout",
     "output_type": "stream",
     "text": [
      "HELLO WORLD\n"
     ]
    },
    {
     "data": {
      "text/plain": [
       "()"
      ]
     },
     "execution_count": 2,
     "metadata": {},
     "output_type": "execute_result"
    }
   ],
   "source": [
    "println!(\"HELLO WORLD\")"
   ]
  },
  {
   "cell_type": "code",
   "execution_count": 14,
   "id": "fd243883-21ad-48cb-a7cb-868a91f79a2c",
   "metadata": {},
   "outputs": [
    {
     "ename": "Error",
     "evalue": "Failed to read Cargo metadata from Cargo.toml file /tmp/.tmpj5hq3p/Cargo.toml, cargo 1.58.0 (f01b232bc 2022-01-19)",
     "output_type": "error",
     "traceback": [
      "Failed to read Cargo metadata from Cargo.toml file /tmp/.tmpj5hq3p/Cargo.toml, cargo 1.58.0 (f01b232bc 2022-01-19)"
     ]
    }
   ],
   "source": [
    ":dep sophia = { version = \"0.7.2\" }\n",
    ":dep weak-table = { version = \"0.3.2\" }\n",
    "extern crate sophia;\n",
    "extern crate weak_table;"
   ]
  },
  {
   "cell_type": "code",
   "execution_count": 65,
   "id": "8c91dfd4-6c1f-4b38-bca8-1a4cd9ec1217",
   "metadata": {},
   "outputs": [],
   "source": [
    "pub struct Triple {\n",
    "    s\n",
    "}\n",
    "    I::Index: Hash,\n",
    "    <I::Factory as TermFactory>::TermData: 'static,"
   ]
  },
  {
   "cell_type": "code",
   "execution_count": 170,
   "id": "01129317-8a8a-44bf-ab9c-cd1765c63b57",
   "metadata": {},
   "outputs": [
    {
     "ename": "Error",
     "evalue": "cannot infer an appropriate lifetime for autoref due to conflicting requirements",
     "output_type": "error",
     "traceback": [
      "    let term = Term::from(t.s().clone());",
      "                            ^ ",
      "cannot infer an appropriate lifetime for autoref due to conflicting requirements"
     ]
    }
   ],
   "source": [
    "use sophia::graph::{*, inmem::LightGraph, inmem::TermIndexMapU};\n",
    "use sophia::ns::Namespace;\n",
    "use sophia::parser::turtle;\n",
    "use sophia::serializer::*;\n",
    "use sophia::serializer::nt::NtSerializer;\n",
    "use sophia::triple::stream::TripleSource;\n",
    "use sophia::triple::Triple;\n",
    "use sophia::triple::streaming_mode::StreamedTriple;\n",
    "use sophia::term::TTerm;\n",
    "\n",
    "use crate::sophia::graph::{Graph, SetGraph};\n",
    "\n",
    "use std::hash::Hash;\n",
    "use std::iter::FromIterator;\n",
    "use std::rc::{Rc, Weak};\n",
    "use std::collections::hash_map::RandomState;\n",
    "use std::collections::HashSet;\n",
    "use weak_table::WeakHashSet;\n",
    "\n",
    "\n",
    "let example = r#\"\n",
    "    @prefix : <http://example.org/>.\n",
    "    @prefix foaf: <http://xmlns.com/foaf/0.1/>.\n",
    "\n",
    "    :alice foaf:name \"Alice\";\n",
    "           foaf:mbox <mailto:alice@work.example> .\n",
    "\n",
    "    :bob foaf:name \"Bob\".\n",
    "\"#;\n",
    "\n",
    "let mut set: HashSet<[Term<&str>; 3]> = HashSet::<[Term<&str>; 3]>::new();\n",
    "turtle::parse_str(example).for_each_triple(|t| {\n",
    "    let term = Term::from(t.s().clone());\n",
    "    set.insert([term, Term::from(t.p().clone()), Term::from(t.o().clone())]);\n",
    "})?;\n",
    "\n",
    "let example2 = r#\"\n",
    "    @prefix : <http://example.org/>.\n",
    "    @prefix foaf: <http://xmlns.com/foaf/0.1/>.\n",
    "\n",
    "    :alice foaf:name \"Alice\";\n",
    "           foaf:mbox <mailto:alice@work.example> .\n",
    "\n",
    "    :carol foaf:name \"Carol\".\n",
    "\"#;\n",
    "\n",
    "let mut set2: HashSet<[Term<&str>; 3]> = HashSet::<[Term<&str>; 3]>::new();\n",
    "turtle::parse_str(example2).for_each_triple(|t| {\n",
    "    set2.insert([Term::from(t.s().clone()), Term::from(t.p().clone()), Term::from(t.o().clone())]);\n",
    "})?;\n",
    "\n",
    "\n",
    "// Can be seen as `a - b`.\n",
    "for x in set.difference(&set2) {\n",
    "    println!(\"{:?}\", x); // Print 1\n",
    "}"
   ]
  },
  {
   "cell_type": "code",
   "execution_count": null,
   "id": "bea88a6d-9def-4251-8b6f-9c7cf9f02503",
   "metadata": {},
   "outputs": [],
   "source": [
    "fn get_diff() -> LightGraph, LightGraph {\n",
    "    \n",
    "}"
   ]
  },
  {
   "cell_type": "code",
   "execution_count": null,
   "id": "f829e6e6-5a38-43a4-957d-7fd776b54514",
   "metadata": {},
   "outputs": [],
   "source": [
    "let ex = Namespace::new(\"http://example.org/\")?;\n",
    "let foaf = Namespace::new(\"http://xmlns.com/foaf/0.1/\")?;\n",
    "graph.insert(\n",
    "    &ex.get(\"bob\")?,\n",
    "    &foaf.get(\"knows\")?,\n",
    "    &ex.get(\"alice\")?,\n",
    ")?;\n",
    "\n",
    "let mut nt_stringifier = NtSerializer::new_stringifier();\n",
    "let example2 = nt_stringifier.serialize_graph(&mut graph)?.as_str();\n",
    "println!(\"The resulting graph\\n{}\", example2);"
   ]
  }
 ],
 "metadata": {
  "kernelspec": {
   "display_name": "Rust",
   "language": "rust",
   "name": "rust"
  },
  "language_info": {
   "codemirror_mode": "rust",
   "file_extension": ".rs",
   "mimetype": "text/rust",
   "name": "Rust",
   "pygment_lexer": "rust",
   "version": ""
  }
 },
 "nbformat": 4,
 "nbformat_minor": 5
}
